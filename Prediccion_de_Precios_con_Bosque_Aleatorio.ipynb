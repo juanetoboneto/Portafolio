{
 "cells": [
  {
   "cell_type": "markdown",
   "id": "9bd32b05-460b-4a7d-a219-33616537e5a8",
   "metadata": {},
   "source": [
    "# Predicción del Precio de los Vehículos por medio de Arboles de Desición.\n",
    "\n",
    "## 1. Pre-Procesamiento y Limpieza de Datos\n",
    "\n",
    "Nuestro objetivo en este caso es crear un modelo de pronóstico para los precios de venta de automóviles, para ello tenemos a nuestra disposición la base de datos de una concecionaria de autos de la India con varias sucursales (esto implica que los precios estan dados en rupias indias), antes que nada deberemos importar los datos y ver sus variables y características:"
   ]
  },
  {
   "cell_type": "code",
   "execution_count": 1,
   "id": "83fb14ee-c184-430d-8981-4ab75f60765d",
   "metadata": {
    "tags": []
   },
   "outputs": [
    {
     "data": {
      "text/html": [
       "<div>\n",
       "<style scoped>\n",
       "    .dataframe tbody tr th:only-of-type {\n",
       "        vertical-align: middle;\n",
       "    }\n",
       "\n",
       "    .dataframe tbody tr th {\n",
       "        vertical-align: top;\n",
       "    }\n",
       "\n",
       "    .dataframe thead th {\n",
       "        text-align: right;\n",
       "    }\n",
       "</style>\n",
       "<table border=\"1\" class=\"dataframe\">\n",
       "  <thead>\n",
       "    <tr style=\"text-align: right;\">\n",
       "      <th></th>\n",
       "      <th>Car_Name</th>\n",
       "      <th>Year</th>\n",
       "      <th>Selling_Price</th>\n",
       "      <th>Present_Price</th>\n",
       "      <th>Kms_Driven</th>\n",
       "      <th>Fuel_Type</th>\n",
       "      <th>Seller_Type</th>\n",
       "      <th>Transmission</th>\n",
       "      <th>Owner</th>\n",
       "    </tr>\n",
       "  </thead>\n",
       "  <tbody>\n",
       "    <tr>\n",
       "      <th>0</th>\n",
       "      <td>ritz</td>\n",
       "      <td>2014</td>\n",
       "      <td>3.35</td>\n",
       "      <td>5.59</td>\n",
       "      <td>27000</td>\n",
       "      <td>Petrol</td>\n",
       "      <td>Dealer</td>\n",
       "      <td>Manual</td>\n",
       "      <td>0</td>\n",
       "    </tr>\n",
       "    <tr>\n",
       "      <th>1</th>\n",
       "      <td>sx4</td>\n",
       "      <td>2013</td>\n",
       "      <td>4.75</td>\n",
       "      <td>9.54</td>\n",
       "      <td>43000</td>\n",
       "      <td>Diesel</td>\n",
       "      <td>Dealer</td>\n",
       "      <td>Manual</td>\n",
       "      <td>0</td>\n",
       "    </tr>\n",
       "    <tr>\n",
       "      <th>2</th>\n",
       "      <td>ciaz</td>\n",
       "      <td>2017</td>\n",
       "      <td>7.25</td>\n",
       "      <td>9.85</td>\n",
       "      <td>6900</td>\n",
       "      <td>Petrol</td>\n",
       "      <td>Dealer</td>\n",
       "      <td>Manual</td>\n",
       "      <td>0</td>\n",
       "    </tr>\n",
       "    <tr>\n",
       "      <th>3</th>\n",
       "      <td>wagon r</td>\n",
       "      <td>2011</td>\n",
       "      <td>2.85</td>\n",
       "      <td>4.15</td>\n",
       "      <td>5200</td>\n",
       "      <td>Petrol</td>\n",
       "      <td>Dealer</td>\n",
       "      <td>Manual</td>\n",
       "      <td>0</td>\n",
       "    </tr>\n",
       "    <tr>\n",
       "      <th>4</th>\n",
       "      <td>swift</td>\n",
       "      <td>2014</td>\n",
       "      <td>4.60</td>\n",
       "      <td>6.87</td>\n",
       "      <td>42450</td>\n",
       "      <td>Diesel</td>\n",
       "      <td>Dealer</td>\n",
       "      <td>Manual</td>\n",
       "      <td>0</td>\n",
       "    </tr>\n",
       "    <tr>\n",
       "      <th>...</th>\n",
       "      <td>...</td>\n",
       "      <td>...</td>\n",
       "      <td>...</td>\n",
       "      <td>...</td>\n",
       "      <td>...</td>\n",
       "      <td>...</td>\n",
       "      <td>...</td>\n",
       "      <td>...</td>\n",
       "      <td>...</td>\n",
       "    </tr>\n",
       "    <tr>\n",
       "      <th>296</th>\n",
       "      <td>city</td>\n",
       "      <td>2016</td>\n",
       "      <td>9.50</td>\n",
       "      <td>11.60</td>\n",
       "      <td>33988</td>\n",
       "      <td>Diesel</td>\n",
       "      <td>Dealer</td>\n",
       "      <td>Manual</td>\n",
       "      <td>0</td>\n",
       "    </tr>\n",
       "    <tr>\n",
       "      <th>297</th>\n",
       "      <td>brio</td>\n",
       "      <td>2015</td>\n",
       "      <td>4.00</td>\n",
       "      <td>5.90</td>\n",
       "      <td>60000</td>\n",
       "      <td>Petrol</td>\n",
       "      <td>Dealer</td>\n",
       "      <td>Manual</td>\n",
       "      <td>0</td>\n",
       "    </tr>\n",
       "    <tr>\n",
       "      <th>298</th>\n",
       "      <td>city</td>\n",
       "      <td>2009</td>\n",
       "      <td>3.35</td>\n",
       "      <td>11.00</td>\n",
       "      <td>87934</td>\n",
       "      <td>Petrol</td>\n",
       "      <td>Dealer</td>\n",
       "      <td>Manual</td>\n",
       "      <td>0</td>\n",
       "    </tr>\n",
       "    <tr>\n",
       "      <th>299</th>\n",
       "      <td>city</td>\n",
       "      <td>2017</td>\n",
       "      <td>11.50</td>\n",
       "      <td>12.50</td>\n",
       "      <td>9000</td>\n",
       "      <td>Diesel</td>\n",
       "      <td>Dealer</td>\n",
       "      <td>Manual</td>\n",
       "      <td>0</td>\n",
       "    </tr>\n",
       "    <tr>\n",
       "      <th>300</th>\n",
       "      <td>brio</td>\n",
       "      <td>2016</td>\n",
       "      <td>5.30</td>\n",
       "      <td>5.90</td>\n",
       "      <td>5464</td>\n",
       "      <td>Petrol</td>\n",
       "      <td>Dealer</td>\n",
       "      <td>Manual</td>\n",
       "      <td>0</td>\n",
       "    </tr>\n",
       "  </tbody>\n",
       "</table>\n",
       "<p>301 rows × 9 columns</p>\n",
       "</div>"
      ],
      "text/plain": [
       "    Car_Name  Year  Selling_Price  Present_Price  Kms_Driven Fuel_Type  \\\n",
       "0       ritz  2014           3.35           5.59       27000    Petrol   \n",
       "1        sx4  2013           4.75           9.54       43000    Diesel   \n",
       "2       ciaz  2017           7.25           9.85        6900    Petrol   \n",
       "3    wagon r  2011           2.85           4.15        5200    Petrol   \n",
       "4      swift  2014           4.60           6.87       42450    Diesel   \n",
       "..       ...   ...            ...            ...         ...       ...   \n",
       "296     city  2016           9.50          11.60       33988    Diesel   \n",
       "297     brio  2015           4.00           5.90       60000    Petrol   \n",
       "298     city  2009           3.35          11.00       87934    Petrol   \n",
       "299     city  2017          11.50          12.50        9000    Diesel   \n",
       "300     brio  2016           5.30           5.90        5464    Petrol   \n",
       "\n",
       "    Seller_Type Transmission  Owner  \n",
       "0        Dealer       Manual      0  \n",
       "1        Dealer       Manual      0  \n",
       "2        Dealer       Manual      0  \n",
       "3        Dealer       Manual      0  \n",
       "4        Dealer       Manual      0  \n",
       "..          ...          ...    ...  \n",
       "296      Dealer       Manual      0  \n",
       "297      Dealer       Manual      0  \n",
       "298      Dealer       Manual      0  \n",
       "299      Dealer       Manual      0  \n",
       "300      Dealer       Manual      0  \n",
       "\n",
       "[301 rows x 9 columns]"
      ]
     },
     "execution_count": 1,
     "metadata": {},
     "output_type": "execute_result"
    }
   ],
   "source": [
    "# Importemos los paquetes necesarios para leer los datos:\n",
    "import pandas as pd\n",
    "\n",
    "# Extraigamos la información local:\n",
    "datos = pd.read_csv(\"DataSets/cardekho_data.csv\")\n",
    "# Vemeamos los datos con los que vamos a trabajar:\n",
    "datos"
   ]
  },
  {
   "cell_type": "markdown",
   "id": "a9f3eaef-810e-47f9-8f1c-db8effbd86da",
   "metadata": {},
   "source": [
    "Vemos que los datos poseen $9$ variables, a saber: nombre del auto, año, precio de venta, precio actual (los cuales intuimos estan en millones), Kilometraje, tipo de combustible tipo de vendedor, transmición y propietario. Estaría bien conocer cuales son las clases de nuestras variables categóricas (y al mismo tiempo la frecuencia de cada uno):"
   ]
  },
  {
   "cell_type": "code",
   "execution_count": 2,
   "id": "19816667-456e-4d75-a4de-164de6d79295",
   "metadata": {
    "tags": []
   },
   "outputs": [
    {
     "name": "stdout",
     "output_type": "stream",
     "text": [
      "Car_Name\n",
      "city                        26\n",
      "corolla altis               16\n",
      "verna                       14\n",
      "fortuner                    11\n",
      "brio                        10\n",
      "                            ..\n",
      "Honda CB Trigger             1\n",
      "Yamaha FZ S                  1\n",
      "Bajaj Pulsar 135 LS          1\n",
      "Activa 4g                    1\n",
      "Bajaj Avenger Street 220     1\n",
      "Name: count, Length: 98, dtype: int64\n",
      "Fuel_Type\n",
      "Petrol    239\n",
      "Diesel     60\n",
      "CNG         2\n",
      "Name: count, dtype: int64\n",
      "Seller_Type\n",
      "Dealer        195\n",
      "Individual    106\n",
      "Name: count, dtype: int64\n",
      "Transmission\n",
      "Manual       261\n",
      "Automatic     40\n",
      "Name: count, dtype: int64\n",
      "Year\n",
      "2015    61\n",
      "2016    50\n",
      "2014    38\n",
      "2017    35\n",
      "2013    33\n",
      "2012    23\n",
      "2011    19\n",
      "2010    15\n",
      "2008     7\n",
      "2009     6\n",
      "2006     4\n",
      "2005     4\n",
      "2003     2\n",
      "2007     2\n",
      "2018     1\n",
      "2004     1\n",
      "Name: count, dtype: int64\n"
     ]
    }
   ],
   "source": [
    "for i in [\"Car_Name\", \"Fuel_Type\", \"Seller_Type\", \"Transmission\", \"Year\"]:\n",
    "    print(datos[i].value_counts())"
   ]
  },
  {
   "cell_type": "markdown",
   "id": "3f11b7d5-7c63-4f06-8f33-8ea1923f2d5c",
   "metadata": {
    "tags": []
   },
   "source": [
    "Debido a la gran variedad de categorías presentes en `Car_Name` y a que no aportará al modelo información relevante, es mejor descartar dicha variable:"
   ]
  },
  {
   "cell_type": "code",
   "execution_count": 3,
   "id": "2cfe255a-9b61-42a8-a5bc-9617cf517399",
   "metadata": {
    "tags": []
   },
   "outputs": [],
   "source": [
    "datos.drop(columns=\"Car_Name\", inplace=True)"
   ]
  },
  {
   "cell_type": "markdown",
   "id": "95beb3ec-15ba-424e-9230-91e1d78a7354",
   "metadata": {},
   "source": [
    "Ahora deberiamos recavar información básica de nuestros datos para poder limpiarlos correctamente:"
   ]
  },
  {
   "cell_type": "code",
   "execution_count": 4,
   "id": "1a8c37e0-df48-4158-a500-a697fbd553f5",
   "metadata": {
    "tags": []
   },
   "outputs": [
    {
     "data": {
      "text/html": [
       "<div>\n",
       "<style scoped>\n",
       "    .dataframe tbody tr th:only-of-type {\n",
       "        vertical-align: middle;\n",
       "    }\n",
       "\n",
       "    .dataframe tbody tr th {\n",
       "        vertical-align: top;\n",
       "    }\n",
       "\n",
       "    .dataframe thead th {\n",
       "        text-align: right;\n",
       "    }\n",
       "</style>\n",
       "<table border=\"1\" class=\"dataframe\">\n",
       "  <thead>\n",
       "    <tr style=\"text-align: right;\">\n",
       "      <th></th>\n",
       "      <th>Year</th>\n",
       "      <th>Selling_Price</th>\n",
       "      <th>Present_Price</th>\n",
       "      <th>Kms_Driven</th>\n",
       "      <th>Owner</th>\n",
       "    </tr>\n",
       "  </thead>\n",
       "  <tbody>\n",
       "    <tr>\n",
       "      <th>count</th>\n",
       "      <td>301.000000</td>\n",
       "      <td>301.000000</td>\n",
       "      <td>301.000000</td>\n",
       "      <td>301.000000</td>\n",
       "      <td>301.000000</td>\n",
       "    </tr>\n",
       "    <tr>\n",
       "      <th>mean</th>\n",
       "      <td>2013.627907</td>\n",
       "      <td>4.661296</td>\n",
       "      <td>7.628472</td>\n",
       "      <td>36947.205980</td>\n",
       "      <td>0.043189</td>\n",
       "    </tr>\n",
       "    <tr>\n",
       "      <th>std</th>\n",
       "      <td>2.891554</td>\n",
       "      <td>5.082812</td>\n",
       "      <td>8.644115</td>\n",
       "      <td>38886.883882</td>\n",
       "      <td>0.247915</td>\n",
       "    </tr>\n",
       "    <tr>\n",
       "      <th>min</th>\n",
       "      <td>2003.000000</td>\n",
       "      <td>0.100000</td>\n",
       "      <td>0.320000</td>\n",
       "      <td>500.000000</td>\n",
       "      <td>0.000000</td>\n",
       "    </tr>\n",
       "    <tr>\n",
       "      <th>25%</th>\n",
       "      <td>2012.000000</td>\n",
       "      <td>0.900000</td>\n",
       "      <td>1.200000</td>\n",
       "      <td>15000.000000</td>\n",
       "      <td>0.000000</td>\n",
       "    </tr>\n",
       "    <tr>\n",
       "      <th>50%</th>\n",
       "      <td>2014.000000</td>\n",
       "      <td>3.600000</td>\n",
       "      <td>6.400000</td>\n",
       "      <td>32000.000000</td>\n",
       "      <td>0.000000</td>\n",
       "    </tr>\n",
       "    <tr>\n",
       "      <th>75%</th>\n",
       "      <td>2016.000000</td>\n",
       "      <td>6.000000</td>\n",
       "      <td>9.900000</td>\n",
       "      <td>48767.000000</td>\n",
       "      <td>0.000000</td>\n",
       "    </tr>\n",
       "    <tr>\n",
       "      <th>max</th>\n",
       "      <td>2018.000000</td>\n",
       "      <td>35.000000</td>\n",
       "      <td>92.600000</td>\n",
       "      <td>500000.000000</td>\n",
       "      <td>3.000000</td>\n",
       "    </tr>\n",
       "  </tbody>\n",
       "</table>\n",
       "</div>"
      ],
      "text/plain": [
       "              Year  Selling_Price  Present_Price     Kms_Driven       Owner\n",
       "count   301.000000     301.000000     301.000000     301.000000  301.000000\n",
       "mean   2013.627907       4.661296       7.628472   36947.205980    0.043189\n",
       "std       2.891554       5.082812       8.644115   38886.883882    0.247915\n",
       "min    2003.000000       0.100000       0.320000     500.000000    0.000000\n",
       "25%    2012.000000       0.900000       1.200000   15000.000000    0.000000\n",
       "50%    2014.000000       3.600000       6.400000   32000.000000    0.000000\n",
       "75%    2016.000000       6.000000       9.900000   48767.000000    0.000000\n",
       "max    2018.000000      35.000000      92.600000  500000.000000    3.000000"
      ]
     },
     "execution_count": 4,
     "metadata": {},
     "output_type": "execute_result"
    }
   ],
   "source": [
    "datos.describe()"
   ]
  },
  {
   "cell_type": "markdown",
   "id": "10ae84cd-8fd7-47d1-b708-709acbda089f",
   "metadata": {},
   "source": [
    "Como se puede ver, los valores de `Selling_Price`, `Present_Price` y `Kms_Driven` presentan una desviación estándar atípica, esto devido a valores atípicamente altos como se puede corroborar atravez de los cuartiles, sin embargo, no seria conveniente ajustar los valores de `Selling_Price` debido a que es la variable que queremos predecir, cosa que no pasa con las otras $2$.\n",
    "\n",
    "Antes de hacer algun cambio, verifiquemos dichos valores atípicos de las otras $2$ variables a traves de diagramas de caja:"
   ]
  },
  {
   "cell_type": "code",
   "execution_count": 5,
   "id": "c518667f-fad8-41b9-82cb-ca3914d85aad",
   "metadata": {
    "tags": []
   },
   "outputs": [
    {
     "data": {
      "image/png": "[encoded data removed]",
      "text/plain": [
       "<Figure size 800x400 with 2 Axes>"
      ]
     },
     "metadata": {},
     "output_type": "display_data"
    }
   ],
   "source": [
    "import matplotlib.pyplot as plt\n",
    "import seaborn as sns\n",
    "\n",
    "figura,ejes = plt.subplots(1, 2, figsize=(8,4))\n",
    "\n",
    "sns.boxplot(y=\"Present_Price\", data=datos, ax=ejes[0])\n",
    "ejes[0].set_title('Gráfico de Caja del Precio Actual')\n",
    "\n",
    "sns.boxplot(y=\"Kms_Driven\", data=datos, ax=ejes[1])\n",
    "ejes[1].set_title('Grafico de Caja del Kilometraje')\n",
    "\n",
    "plt.tight_layout()\n",
    "plt.show()"
   ]
  },
  {
   "cell_type": "markdown",
   "id": "de452350-542c-4ea5-a5c2-841e21347839",
   "metadata": {},
   "source": [
    "Por lo que queda bastante claro que existen valores atípicos que en este caso debemos de limpiar.\n",
    "\n",
    "Esto lo haremos calculando un rango que separe los datos comúnes de los atípicos, esto se hace mediante el **Rango Intercuartilico (IQR)** al cual debemos asignarle un coeficiente $1,5$. El coeficiente $1,5$ se elige empíricamente y es ampliamente aceptado en la práctica estadística.Representa una distancia suficiente para capturar valores que son inusualmente altos/bajos. Además, tendremos que utilizar algebra lineal por lo que importaremos NumPy tambien:"
   ]
  },
  {
   "cell_type": "code",
   "execution_count": 6,
   "id": "be01f23c-244c-4d39-979e-6cf8c9d75379",
   "metadata": {
    "tags": []
   },
   "outputs": [],
   "source": [
    "# instalamos NumPy:\n",
    "import numpy as np\n",
    "\n",
    "# Hacer esto sera más fácil mediante una función:\n",
    "def filtrador(col):\n",
    "# Primero calculamos el primer(25%) y tercer(75%) cuartil:\n",
    " Q1 = datos[col].quantile(0.25)\n",
    " Q3 = datos[col].quantile(0.75)\n",
    "# Calculamos el Rango Intercuartilico:\n",
    " IQR = Q3-Q1   \n",
    "# Determinamos los límites para clasificar outliers: \n",
    " limite_superior = Q3+1.5*IQR\n",
    " limite_inferior = Q1-1.5*IQR\n",
    "# Ahora filtramos los datos que esten fuera de dichos límites usando NumPy: \n",
    " datos[col] = np.where(datos[col] > limite_superior, limite_superior, \n",
    "                                   np.where(datos[col] < limite_inferior, limite_inferior, datos[col]))\n",
    "    \n",
    "# Claro que esta función es optimizable, sin embargo la prefiero asi por ser más ilustrativa.\n",
    "    \n",
    "# Ahora usemos esta función para filtrar nuestras variables:\n",
    "filtrador(\"Present_Price\")\n",
    "filtrador(\"Kms_Driven\")"
   ]
  },
  {
   "cell_type": "markdown",
   "id": "993efc02-c5f1-4805-ac2a-958ddcc17134",
   "metadata": {},
   "source": [
    "Podemos utilizar nuevamente los diagrámas de caja para verificar que los *Outsiders* han sido correctamente filtrados:"
   ]
  },
  {
   "cell_type": "code",
   "execution_count": 7,
   "id": "42f33b20-3dfe-4c5f-b927-15a7cd2cd7f8",
   "metadata": {
    "tags": []
   },
   "outputs": [
    {
     "data": {
      "image/png": "[encoded data removed]",
      "text/plain": [
       "<Figure size 800x400 with 2 Axes>"
      ]
     },
     "metadata": {},
     "output_type": "display_data"
    }
   ],
   "source": [
    "figura,ejes = plt.subplots(1, 2, figsize=(8,4))\n",
    "\n",
    "sns.boxplot(y=\"Present_Price\", data=datos, ax=ejes[0])\n",
    "ejes[0].set_title('Gráfico de Caja del Precio Actual')\n",
    "\n",
    "sns.boxplot(y=\"Kms_Driven\", data=datos, ax=ejes[1])\n",
    "ejes[1].set_title('Grafico de Caja del Kilometraje')\n",
    "\n",
    "plt.tight_layout()\n",
    "plt.show()"
   ]
  },
  {
   "cell_type": "markdown",
   "id": "91a6f9bf-0e78-431c-bbd5-cf35aeb4c8d3",
   "metadata": {},
   "source": [
    "Para términar con el procesamiento de los datos debemos notar que existen al menos $3$ variables categóricas que pueden transformarse en variables numéricas discretas estas son `Fuel_Type`, `Seller_Type` y `Transmission`. Esto se puede hacer por dos medios distintos:\n",
    "- El *Label Encoding* que es simplemente asignar un número a cada categoría, por ejemplo asignar $1$ al diesel, $2$ a la gasolina y $3$ al CNG.\n",
    "- El *One Hot Encoding* se trata de sustituir cada categoría por una matriz de entradas binarias.\n",
    "Para este proyecto utilizaremos este último método debido a que el label encoding puede hacer que nuestro modelo de regresión otorge un *\"mayor valor\"* que no se corresponde a la realidad a las categorias con un número mayor o menor asignado. Lo anterior lo podemos realizar mediante el método del mismo nombre de Sklearn."
   ]
  },
  {
   "cell_type": "code",
   "execution_count": 8,
   "id": "360553a7-b032-4d35-8f62-0f71d7b37bc0",
   "metadata": {
    "tags": []
   },
   "outputs": [
    {
     "data": {
      "text/html": [
       "<div>\n",
       "<style scoped>\n",
       "    .dataframe tbody tr th:only-of-type {\n",
       "        vertical-align: middle;\n",
       "    }\n",
       "\n",
       "    .dataframe tbody tr th {\n",
       "        vertical-align: top;\n",
       "    }\n",
       "\n",
       "    .dataframe thead th {\n",
       "        text-align: right;\n",
       "    }\n",
       "</style>\n",
       "<table border=\"1\" class=\"dataframe\">\n",
       "  <thead>\n",
       "    <tr style=\"text-align: right;\">\n",
       "      <th></th>\n",
       "      <th>Year</th>\n",
       "      <th>Selling_Price</th>\n",
       "      <th>Present_Price</th>\n",
       "      <th>Kms_Driven</th>\n",
       "      <th>Owner</th>\n",
       "      <th>Present_Price_Diesel</th>\n",
       "      <th>Present_Price_Petrol</th>\n",
       "      <th>Kms_Driven_Individual</th>\n",
       "      <th>Fuel_Type_Manual</th>\n",
       "    </tr>\n",
       "  </thead>\n",
       "  <tbody>\n",
       "    <tr>\n",
       "      <th>0</th>\n",
       "      <td>2014</td>\n",
       "      <td>3.35</td>\n",
       "      <td>5.59</td>\n",
       "      <td>27000.0</td>\n",
       "      <td>0</td>\n",
       "      <td>0.0</td>\n",
       "      <td>1.0</td>\n",
       "      <td>0.0</td>\n",
       "      <td>1.0</td>\n",
       "    </tr>\n",
       "    <tr>\n",
       "      <th>1</th>\n",
       "      <td>2013</td>\n",
       "      <td>4.75</td>\n",
       "      <td>9.54</td>\n",
       "      <td>43000.0</td>\n",
       "      <td>0</td>\n",
       "      <td>1.0</td>\n",
       "      <td>0.0</td>\n",
       "      <td>0.0</td>\n",
       "      <td>1.0</td>\n",
       "    </tr>\n",
       "    <tr>\n",
       "      <th>2</th>\n",
       "      <td>2017</td>\n",
       "      <td>7.25</td>\n",
       "      <td>9.85</td>\n",
       "      <td>6900.0</td>\n",
       "      <td>0</td>\n",
       "      <td>0.0</td>\n",
       "      <td>1.0</td>\n",
       "      <td>0.0</td>\n",
       "      <td>1.0</td>\n",
       "    </tr>\n",
       "    <tr>\n",
       "      <th>3</th>\n",
       "      <td>2011</td>\n",
       "      <td>2.85</td>\n",
       "      <td>4.15</td>\n",
       "      <td>5200.0</td>\n",
       "      <td>0</td>\n",
       "      <td>0.0</td>\n",
       "      <td>1.0</td>\n",
       "      <td>0.0</td>\n",
       "      <td>1.0</td>\n",
       "    </tr>\n",
       "    <tr>\n",
       "      <th>4</th>\n",
       "      <td>2014</td>\n",
       "      <td>4.60</td>\n",
       "      <td>6.87</td>\n",
       "      <td>42450.0</td>\n",
       "      <td>0</td>\n",
       "      <td>1.0</td>\n",
       "      <td>0.0</td>\n",
       "      <td>0.0</td>\n",
       "      <td>1.0</td>\n",
       "    </tr>\n",
       "    <tr>\n",
       "      <th>...</th>\n",
       "      <td>...</td>\n",
       "      <td>...</td>\n",
       "      <td>...</td>\n",
       "      <td>...</td>\n",
       "      <td>...</td>\n",
       "      <td>...</td>\n",
       "      <td>...</td>\n",
       "      <td>...</td>\n",
       "      <td>...</td>\n",
       "    </tr>\n",
       "    <tr>\n",
       "      <th>296</th>\n",
       "      <td>2016</td>\n",
       "      <td>9.50</td>\n",
       "      <td>11.60</td>\n",
       "      <td>33988.0</td>\n",
       "      <td>0</td>\n",
       "      <td>1.0</td>\n",
       "      <td>0.0</td>\n",
       "      <td>0.0</td>\n",
       "      <td>1.0</td>\n",
       "    </tr>\n",
       "    <tr>\n",
       "      <th>297</th>\n",
       "      <td>2015</td>\n",
       "      <td>4.00</td>\n",
       "      <td>5.90</td>\n",
       "      <td>60000.0</td>\n",
       "      <td>0</td>\n",
       "      <td>0.0</td>\n",
       "      <td>1.0</td>\n",
       "      <td>0.0</td>\n",
       "      <td>1.0</td>\n",
       "    </tr>\n",
       "    <tr>\n",
       "      <th>298</th>\n",
       "      <td>2009</td>\n",
       "      <td>3.35</td>\n",
       "      <td>11.00</td>\n",
       "      <td>87934.0</td>\n",
       "      <td>0</td>\n",
       "      <td>0.0</td>\n",
       "      <td>1.0</td>\n",
       "      <td>0.0</td>\n",
       "      <td>1.0</td>\n",
       "    </tr>\n",
       "    <tr>\n",
       "      <th>299</th>\n",
       "      <td>2017</td>\n",
       "      <td>11.50</td>\n",
       "      <td>12.50</td>\n",
       "      <td>9000.0</td>\n",
       "      <td>0</td>\n",
       "      <td>1.0</td>\n",
       "      <td>0.0</td>\n",
       "      <td>0.0</td>\n",
       "      <td>1.0</td>\n",
       "    </tr>\n",
       "    <tr>\n",
       "      <th>300</th>\n",
       "      <td>2016</td>\n",
       "      <td>5.30</td>\n",
       "      <td>5.90</td>\n",
       "      <td>5464.0</td>\n",
       "      <td>0</td>\n",
       "      <td>0.0</td>\n",
       "      <td>1.0</td>\n",
       "      <td>0.0</td>\n",
       "      <td>1.0</td>\n",
       "    </tr>\n",
       "  </tbody>\n",
       "</table>\n",
       "<p>301 rows × 9 columns</p>\n",
       "</div>"
      ],
      "text/plain": [
       "     Year  Selling_Price  Present_Price  Kms_Driven  Owner  \\\n",
       "0    2014           3.35           5.59     27000.0      0   \n",
       "1    2013           4.75           9.54     43000.0      0   \n",
       "2    2017           7.25           9.85      6900.0      0   \n",
       "3    2011           2.85           4.15      5200.0      0   \n",
       "4    2014           4.60           6.87     42450.0      0   \n",
       "..    ...            ...            ...         ...    ...   \n",
       "296  2016           9.50          11.60     33988.0      0   \n",
       "297  2015           4.00           5.90     60000.0      0   \n",
       "298  2009           3.35          11.00     87934.0      0   \n",
       "299  2017          11.50          12.50      9000.0      0   \n",
       "300  2016           5.30           5.90      5464.0      0   \n",
       "\n",
       "     Present_Price_Diesel  Present_Price_Petrol  Kms_Driven_Individual  \\\n",
       "0                     0.0                   1.0                    0.0   \n",
       "1                     1.0                   0.0                    0.0   \n",
       "2                     0.0                   1.0                    0.0   \n",
       "3                     0.0                   1.0                    0.0   \n",
       "4                     1.0                   0.0                    0.0   \n",
       "..                    ...                   ...                    ...   \n",
       "296                   1.0                   0.0                    0.0   \n",
       "297                   0.0                   1.0                    0.0   \n",
       "298                   0.0                   1.0                    0.0   \n",
       "299                   1.0                   0.0                    0.0   \n",
       "300                   0.0                   1.0                    0.0   \n",
       "\n",
       "     Fuel_Type_Manual  \n",
       "0                 1.0  \n",
       "1                 1.0  \n",
       "2                 1.0  \n",
       "3                 1.0  \n",
       "4                 1.0  \n",
       "..                ...  \n",
       "296               1.0  \n",
       "297               1.0  \n",
       "298               1.0  \n",
       "299               1.0  \n",
       "300               1.0  \n",
       "\n",
       "[301 rows x 9 columns]"
      ]
     },
     "execution_count": 8,
     "metadata": {},
     "output_type": "execute_result"
    }
   ],
   "source": [
    "# Importemos el respectivo método\n",
    "from sklearn.preprocessing import OneHotEncoder\n",
    "\n",
    "# Definamos los parámetros de nuestra función de codificación \n",
    "codificador = OneHotEncoder(sparse_output=False, drop='first')\n",
    "# Aplicamos la función, lo que nos dara las columnas de sus matrices binarias\n",
    "codificador_cols = codificador.fit_transform(datos[['Fuel_Type', 'Seller_Type', 'Transmission']])\n",
    "\n",
    "# Debemos extraer las categorías de la codificación\n",
    "categorias = codificador.categories_\n",
    "\n",
    "# Establecemos los nombres em base a las categorías anteriores (a exepción de la primera)\n",
    "nombres_categorias = []\n",
    "for i, category_list in enumerate(categorias):\n",
    "    nombres_categorias.extend([f'{datos.columns[i + 2]}_{category}' for category in category_list[1:]])\n",
    "\n",
    "# Establecemos el DataFrame codificado\n",
    "codificacion_datos =  pd.DataFrame(codificador_cols, columns=nombres_categorias)\n",
    "\n",
    "# Concatenamos los datos con los datos codificados\n",
    "datos_codificados = pd.concat([datos.drop(['Fuel_Type', 'Seller_Type', 'Transmission'], axis=1), codificacion_datos], axis=1)\n",
    "\n",
    "# Finalmente observemos el DataFrame codificado\n",
    "datos_codificados"
   ]
  },
  {
   "cell_type": "markdown",
   "id": "952f8c59-7205-4be7-a6d5-15a753f1ce8d",
   "metadata": {},
   "source": [
    "## 2. Regresión por medio de los Bosques Aleatorios\n",
    "\n",
    "Realizaré una breve explicación de la regresión por medio de bosque aleatorio para entender su aplicación como método de \n",
    "`Sklearn`, que está automatizado, esto conforme avanzamos en nuestro análisis. Lo primero que debemos hacer es separar la \n",
    "variable dependiente $y$, la cual queremos predecir. Esta corresponde al **precio de venta** (es decir, la variable `Selling_Price`) de las demás variables independientes $X$ (en mayúscula pues corresponde a una matriz de datos) que utilizaremos para entrenar el modelo y como nuestros valores de entrada para obtener nuestra predicción de precios. Es por ello que codificamos las variables categóricas con el método *one-hot encoding*. Después de ello, separaremos nuestros datos entre datos de entrenamiento y de prueba para el modelo en una proporción de $80\\%$ y $20\\%$ respectivamente."
   ]
  },
  {
   "cell_type": "code",
   "execution_count": 9,
   "id": "3e008f4d-ca15-4977-90d4-8fde9f82f347",
   "metadata": {},
   "outputs": [
    {
     "data": {
      "text/html": [
       "<div>\n",
       "<style scoped>\n",
       "    .dataframe tbody tr th:only-of-type {\n",
       "        vertical-align: middle;\n",
       "    }\n",
       "\n",
       "    .dataframe tbody tr th {\n",
       "        vertical-align: top;\n",
       "    }\n",
       "\n",
       "    .dataframe thead th {\n",
       "        text-align: right;\n",
       "    }\n",
       "</style>\n",
       "<table border=\"1\" class=\"dataframe\">\n",
       "  <thead>\n",
       "    <tr style=\"text-align: right;\">\n",
       "      <th></th>\n",
       "      <th>Year</th>\n",
       "      <th>Present_Price</th>\n",
       "      <th>Kms_Driven</th>\n",
       "      <th>Owner</th>\n",
       "      <th>Present_Price_Diesel</th>\n",
       "      <th>Present_Price_Petrol</th>\n",
       "      <th>Kms_Driven_Individual</th>\n",
       "      <th>Fuel_Type_Manual</th>\n",
       "    </tr>\n",
       "  </thead>\n",
       "  <tbody>\n",
       "    <tr>\n",
       "      <th>184</th>\n",
       "      <td>2008</td>\n",
       "      <td>0.750</td>\n",
       "      <td>26000.0</td>\n",
       "      <td>1</td>\n",
       "      <td>0.0</td>\n",
       "      <td>1.0</td>\n",
       "      <td>1.0</td>\n",
       "      <td>1.0</td>\n",
       "    </tr>\n",
       "    <tr>\n",
       "      <th>132</th>\n",
       "      <td>2017</td>\n",
       "      <td>0.950</td>\n",
       "      <td>3500.0</td>\n",
       "      <td>0</td>\n",
       "      <td>0.0</td>\n",
       "      <td>1.0</td>\n",
       "      <td>1.0</td>\n",
       "      <td>1.0</td>\n",
       "    </tr>\n",
       "    <tr>\n",
       "      <th>194</th>\n",
       "      <td>2008</td>\n",
       "      <td>0.787</td>\n",
       "      <td>50000.0</td>\n",
       "      <td>0</td>\n",
       "      <td>0.0</td>\n",
       "      <td>1.0</td>\n",
       "      <td>1.0</td>\n",
       "      <td>1.0</td>\n",
       "    </tr>\n",
       "    <tr>\n",
       "      <th>75</th>\n",
       "      <td>2015</td>\n",
       "      <td>6.800</td>\n",
       "      <td>36000.0</td>\n",
       "      <td>0</td>\n",
       "      <td>0.0</td>\n",
       "      <td>1.0</td>\n",
       "      <td>0.0</td>\n",
       "      <td>1.0</td>\n",
       "    </tr>\n",
       "    <tr>\n",
       "      <th>111</th>\n",
       "      <td>2016</td>\n",
       "      <td>1.500</td>\n",
       "      <td>8700.0</td>\n",
       "      <td>0</td>\n",
       "      <td>0.0</td>\n",
       "      <td>1.0</td>\n",
       "      <td>1.0</td>\n",
       "      <td>1.0</td>\n",
       "    </tr>\n",
       "  </tbody>\n",
       "</table>\n",
       "</div>"
      ],
      "text/plain": [
       "     Year  Present_Price  Kms_Driven  Owner  Present_Price_Diesel  \\\n",
       "184  2008          0.750     26000.0      1                   0.0   \n",
       "132  2017          0.950      3500.0      0                   0.0   \n",
       "194  2008          0.787     50000.0      0                   0.0   \n",
       "75   2015          6.800     36000.0      0                   0.0   \n",
       "111  2016          1.500      8700.0      0                   0.0   \n",
       "\n",
       "     Present_Price_Petrol  Kms_Driven_Individual  Fuel_Type_Manual  \n",
       "184                   1.0                    1.0               1.0  \n",
       "132                   1.0                    1.0               1.0  \n",
       "194                   1.0                    1.0               1.0  \n",
       "75                    1.0                    0.0               1.0  \n",
       "111                   1.0                    1.0               1.0  "
      ]
     },
     "execution_count": 9,
     "metadata": {},
     "output_type": "execute_result"
    }
   ],
   "source": [
    "# Establecemos las variables independientes y dependientes\n",
    "X = datos_codificados.drop(columns=['Selling_Price'])\n",
    "y = datos_codificados['Selling_Price']\n",
    "\n",
    "# Separamos los datos de entrenamiento y prueba\n",
    "from sklearn.model_selection import train_test_split\n",
    "X_ent, X_pru, y_ent, y_pru =  train_test_split(X, y, test_size=0.2, random_state=42)\n",
    "\n",
    "# Observemos como son los datos de las categorias de entrenamiento\n",
    "X_ent.head()"
   ]
  },
  {
   "cell_type": "markdown",
   "id": "6cc339a8-b726-4377-8630-e71ff6386a2b",
   "metadata": {},
   "source": [
    "### 2.1. Bagging y CART\n",
    "\n",
    "El bosque aleatorio, como método de aprendizaje automático, es un algoritmo que combina el resultado de varios árboles de decisión. Para ello, utiliza el método de remuestreo de **Bagging**, que genera subconjuntos de características tomados de forma aleatoria y con reemplazo. Luego, se utiliza el método de regresión con árboles de decisión en cada subconjunto.\n",
    "\n",
    "El algoritmo que genera una regresión con un árbol de decisión se denomina **CART** y consiste en generar particiones con valores (en el caso de tener solo una variable independiente o característica) o vectores (en el caso de múltiples características). Dichas particiones se realizan utilizando el MSE y la función de costo, generando una parte de un árbol de decisión. Este proceso se repite hasta cumplir con una condición de parada preestablecida, y da como resultado un **árbol de decisión** que podemos usar para evaluar otros valores o vectores. Si quieren indagar en el algoritmo, pueden verlo en el siguiente [enlace](https://www.codificandobits.com/blog/regresion-arboles-decision-algoritmo-cart/). En nuestro caso, nuestra condición de parada será el tamaño máximo que pueden tener los árboles, que será de $11$. Veamos cómo se crea y entrena dicho modelo de regresión usando `Sklearn`."
   ]
  },
  {
   "cell_type": "code",
   "execution_count": 10,
   "id": "237f1492-404f-4892-95c7-9c42a4eb526a",
   "metadata": {},
   "outputs": [
    {
     "data": {
      "text/html": [
       "<style>#sk-container-id-1 {color: black;background-color: white;}#sk-container-id-1 pre{padding: 0;}#sk-container-id-1 div.sk-toggleable {background-color: white;}#sk-container-id-1 label.sk-toggleable__label {cursor: pointer;display: block;width: 100%;margin-bottom: 0;padding: 0.3em;box-sizing: border-box;text-align: center;}#sk-container-id-1 label.sk-toggleable__label-arrow:before {content: \"▸\";float: left;margin-right: 0.25em;color: #696969;}#sk-container-id-1 label.sk-toggleable__label-arrow:hover:before {color: black;}#sk-container-id-1 div.sk-estimator:hover label.sk-toggleable__label-arrow:before {color: black;}#sk-container-id-1 div.sk-toggleable__content {max-height: 0;max-width: 0;overflow: hidden;text-align: left;background-color: #f0f8ff;}#sk-container-id-1 div.sk-toggleable__content pre {margin: 0.2em;color: black;border-radius: 0.25em;background-color: #f0f8ff;}#sk-container-id-1 input.sk-toggleable__control:checked~div.sk-toggleable__content {max-height: 200px;max-width: 100%;overflow: auto;}#sk-container-id-1 input.sk-toggleable__control:checked~label.sk-toggleable__label-arrow:before {content: \"▾\";}#sk-container-id-1 div.sk-estimator input.sk-toggleable__control:checked~label.sk-toggleable__label {background-color: #d4ebff;}#sk-container-id-1 div.sk-label input.sk-toggleable__control:checked~label.sk-toggleable__label {background-color: #d4ebff;}#sk-container-id-1 input.sk-hidden--visually {border: 0;clip: rect(1px 1px 1px 1px);clip: rect(1px, 1px, 1px, 1px);height: 1px;margin: -1px;overflow: hidden;padding: 0;position: absolute;width: 1px;}#sk-container-id-1 div.sk-estimator {font-family: monospace;background-color: #f0f8ff;border: 1px dotted black;border-radius: 0.25em;box-sizing: border-box;margin-bottom: 0.5em;}#sk-container-id-1 div.sk-estimator:hover {background-color: #d4ebff;}#sk-container-id-1 div.sk-parallel-item::after {content: \"\";width: 100%;border-bottom: 1px solid gray;flex-grow: 1;}#sk-container-id-1 div.sk-label:hover label.sk-toggleable__label {background-color: #d4ebff;}#sk-container-id-1 div.sk-serial::before {content: \"\";position: absolute;border-left: 1px solid gray;box-sizing: border-box;top: 0;bottom: 0;left: 50%;z-index: 0;}#sk-container-id-1 div.sk-serial {display: flex;flex-direction: column;align-items: center;background-color: white;padding-right: 0.2em;padding-left: 0.2em;position: relative;}#sk-container-id-1 div.sk-item {position: relative;z-index: 1;}#sk-container-id-1 div.sk-parallel {display: flex;align-items: stretch;justify-content: center;background-color: white;position: relative;}#sk-container-id-1 div.sk-item::before, #sk-container-id-1 div.sk-parallel-item::before {content: \"\";position: absolute;border-left: 1px solid gray;box-sizing: border-box;top: 0;bottom: 0;left: 50%;z-index: -1;}#sk-container-id-1 div.sk-parallel-item {display: flex;flex-direction: column;z-index: 1;position: relative;background-color: white;}#sk-container-id-1 div.sk-parallel-item:first-child::after {align-self: flex-end;width: 50%;}#sk-container-id-1 div.sk-parallel-item:last-child::after {align-self: flex-start;width: 50%;}#sk-container-id-1 div.sk-parallel-item:only-child::after {width: 0;}#sk-container-id-1 div.sk-dashed-wrapped {border: 1px dashed gray;margin: 0 0.4em 0.5em 0.4em;box-sizing: border-box;padding-bottom: 0.4em;background-color: white;}#sk-container-id-1 div.sk-label label {font-family: monospace;font-weight: bold;display: inline-block;line-height: 1.2em;}#sk-container-id-1 div.sk-label-container {text-align: center;}#sk-container-id-1 div.sk-container {/* jupyter's `normalize.less` sets `[hidden] { display: none; }` but bootstrap.min.css set `[hidden] { display: none !important; }` so we also need the `!important` here to be able to override the default hidden behavior on the sphinx rendered scikit-learn.org. See: https://github.com/scikit-learn/scikit-learn/issues/21755 */display: inline-block !important;position: relative;}#sk-container-id-1 div.sk-text-repr-fallback {display: none;}</style><div id=\"sk-container-id-1\" class=\"sk-top-container\"><div class=\"sk-text-repr-fallback\"><pre>RandomForestRegressor(max_depth=11, random_state=42)</pre><b>In a Jupyter environment, please rerun this cell to show the HTML representation or trust the notebook. <br />On GitHub, the HTML representation is unable to render, please try loading this page with nbviewer.org.</b></div><div class=\"sk-container\" hidden><div class=\"sk-item\"><div class=\"sk-estimator sk-toggleable\"><input class=\"sk-toggleable__control sk-hidden--visually\" id=\"sk-estimator-id-1\" type=\"checkbox\" checked><label for=\"sk-estimator-id-1\" class=\"sk-toggleable__label sk-toggleable__label-arrow\">RandomForestRegressor</label><div class=\"sk-toggleable__content\"><pre>RandomForestRegressor(max_depth=11, random_state=42)</pre></div></div></div></div></div>"
      ],
      "text/plain": [
       "RandomForestRegressor(max_depth=11, random_state=42)"
      ]
     },
     "execution_count": 10,
     "metadata": {},
     "output_type": "execute_result"
    }
   ],
   "source": [
    "# Importemos el respectivo método\n",
    "from sklearn.ensemble import RandomForestRegressor\n",
    "\n",
    "# Definimos la funcion del modelo y lo entrenamos con los datos\n",
    "modelo = RandomForestRegressor(random_state=42, max_depth=11)\n",
    "modelo.fit(X_ent, y_ent)"
   ]
  },
  {
   "cell_type": "markdown",
   "id": "047b28b1-0b07-4093-b751-bb9e75c0051a",
   "metadata": {},
   "source": [
    "### 2.2. Predicciones y Medidas de Error\n",
    "\n",
    "El resultado del CART es un árbol de decisión en el cual, para realizar pronósticos, solo tendremos que introducir un valor $\\overline{x}\\in{X}$ y obtener la hoja resultante. En nuestro caso, los datos que vamos a introducir son los datos de categoría de prueba y validación `X_pru`. Claro que, al tener el bosque aleatorio varios árboles de decisión resultantes, la imagen resultante no será la hoja de un árbol particular, sino más bien un promedio entre dichas hojas. Para medir qué tan acertados fueron dichos pronósticos, disponemos de varias métricas, entre ellas el coeficiente de correlación *R cuadrado*, el error cuadrático medio *MSE* y el error absoluto medio *MAE*. En nuestro caso, utilizaremos las tres y compararemos nuestros resultados con los valores reales de prueba `y_pru`.  "
   ]
  },
  {
   "cell_type": "code",
   "execution_count": 11,
   "id": "9951324a-571b-41cf-b29d-e03604c7ab96",
   "metadata": {},
   "outputs": [
    {
     "name": "stdout",
     "output_type": "stream",
     "text": [
      "Error cuadrático medio (MSE): 1.54604\n",
      "Error absoluto medio (MAE): 0.7049\n",
      "Coeficiente de determinación $r^2$: 93.28800000000001%\n"
     ]
    }
   ],
   "source": [
    "# Realicemos el pronóstico del modelo\n",
    "y_pred = modelo.predict(X_pru)\n",
    "\n",
    "# Importemos las métricas de error\n",
    "from sklearn.metrics import r2_score, mean_absolute_error, mean_squared_error\n",
    "\n",
    "# Determinamos el error según cada métrica (función práctica):\n",
    "def calculadora_error(a, b):\n",
    "    mse = mean_squared_error(a, b)\n",
    "    mae = mean_absolute_error(a, b)\n",
    "    r2 = r2_score(a, b)\n",
    "    print(f'Error cuadrático medio (MSE): {round(mse, 5)}')\n",
    "    print(f'Error absoluto medio (MAE): {round(mae, 5)}')\n",
    "    print(f'Coeficiente de determinación $r^2$: {round(r2, 5) * 100}%')\n",
    "    \n",
    "# Usemos la función que creamos antes para determinar el error\n",
    "calculadora_error(y_pru, y_pred)"
   ]
  },
  {
   "cell_type": "markdown",
   "id": "bf0f8d7b-6520-4adf-835b-a80651ec56ec",
   "metadata": {},
   "source": [
    "### 2.3. Optimización del Modelo por Hiperparámetros\n",
    "\n",
    "Viendo el resultado de nuestras medidas de error anteriores, podemos preguntarnos ¿cómo podemos mejorar nuestro modelo? Una de las posibles formas de hacer esto es mediante la búsqueda de los hiperparámetros más óptimos. Con hiperparámetros nos referimos a los parámetros que utiliza el método, ya sea algorítmico o computacional. Sklearn posee una función automatizada de búsqueda aleatoria para dichos parámetros; solo debemos establecer una **variable aleatoria discreta uniforme** en un rango de búsqueda de los hiperparámetros, esto se hace con Scipy."
   ]
  },
  {
   "cell_type": "code",
   "execution_count": 12,
   "id": "dd7ef858-caac-4630-a7d4-820181e37c99",
   "metadata": {},
   "outputs": [
    {
     "name": "stdout",
     "output_type": "stream",
     "text": [
      "Hiperparámetros obtenidos de la busqueda aleatoria: {'max_depth': 27, 'min_samples_leaf': 2, 'min_samples_split': 3, 'n_estimators': 26}\n"
     ]
    }
   ],
   "source": [
    "# Importamos las funciones de busqueda y de variable aleatoria\n",
    "from scipy.stats import randint\n",
    "from sklearn.model_selection import RandomizedSearchCV\n",
    "\n",
    "# Definimos la distribución de los parámetros para la busqueda aleatoria\n",
    "distribucion_parametros = {\n",
    "    'max_depth': randint(1, 50),  \n",
    "    'n_estimators': randint(10, 100),  \n",
    "    'min_samples_split': randint(2, 10),  \n",
    "    'min_samples_leaf': randint(1, 10),  \n",
    "}\n",
    "\n",
    "# Definimos el modelo que vamos a ajustar\n",
    "modelo = RandomForestRegressor()  # Aquí puedes usar el modelo que prefieras\n",
    "\n",
    "# Establecemos las metricas necesarias para tener un criterio en la busqueda aleatoria\n",
    "metricas = {'mse': 'neg_mean_squared_error', 'r2': 'r2'}\n",
    "\n",
    "# Ahora definimos el modelo y realizamos el entrenamiento\n",
    "busqueda_aleatoria = RandomizedSearchCV(estimator=modelo, param_distributions=distribucion_parametros, n_iter=100, cv=5, random_state=42, scoring=metricas, refit='mse')\n",
    "busqueda_aleatoria.fit(X_ent, y_ent)\n",
    "\n",
    "# Obtendremos los hiperparámetros como una propiedad de la función anterior, así también podremos saber cuáles son\n",
    "parametros = busqueda_aleatoria.best_params_\n",
    "print(f'Hiperparámetros obtenidos de la busqueda aleatoria: {parametros}')"
   ]
  },
  {
   "cell_type": "markdown",
   "id": "e5a87a69-1c95-4692-a756-e4053851ddb5",
   "metadata": {},
   "source": [
    "Por último, podremos volver a entrenar nuestro modelo, solo que esta vez con los hiperparámetros que encontramos, para realizar el mejor modelo de regresión posible por este método. Para verificar que esta versión es mejor, usaremos otra vez las métricas de antes."
   ]
  },
  {
   "cell_type": "code",
   "execution_count": 13,
   "id": "153ca188-b56a-4a65-a197-7fa0fa960f1b",
   "metadata": {},
   "outputs": [
    {
     "name": "stdout",
     "output_type": "stream",
     "text": [
      "Error cuadrático medio (MSE): 0.97004\n",
      "Error absoluto medio (MAE): 0.61936\n",
      "Coeficiente de determinación $r^2$: 95.789%\n"
     ]
    }
   ],
   "source": [
    "# De nuevo obtenemos el modelo con los hiperparametros ya integrados como propiedad de la busqueda aleatoria\n",
    "modelo_mejorado = busqueda_aleatoria.best_estimator_\n",
    "\n",
    "# Al igual que antes realizamos el pronóstico, esta vez con el modelo mejorado\n",
    "y_pred = modelo_mejorado.predict(X_pru)\n",
    "\n",
    "# Veamos si las métricas de error presentan una mejora con respecto al anterior\n",
    "calculadora_error(y_pru, y_pred)"
   ]
  },
  {
   "cell_type": "markdown",
   "id": "48acbb0e-67f3-4159-a74d-a17e20f8e574",
   "metadata": {
    "tags": []
   },
   "source": [
    "## 2.4. Comparación Gráfica\n",
    "\n",
    "Aunque las métricas de error ya nos proporcionaron información acerca de qué tan acertados son los pronósticos de nuestro modelo, tal vez esto no sea ideal al momento de explicar o ilustrar la efectividad o los fallos del mismo para un grupo de trabajo u otras personas en general. Por ello, de manera complementaria, podemos realizar una gráfica que compare directamente los valores de prueba con los predichos por la regresión.\n",
    "\n",
    "Antes de eso debemos organizar y transformar nuestros datos para poderlos gráficar:"
   ]
  },
  {
   "cell_type": "code",
   "execution_count": 14,
   "id": "0abd218d-1d0e-4dc0-a064-cf462d2f150a",
   "metadata": {},
   "outputs": [],
   "source": [
    "# Importemos Pandas para transformar los datos del prónostico y poderlos graficar\n",
    "import pandas as pd\n",
    "\n",
    "# Las predicciones del modelo estan en formato 'array' de pandas asi que debemos transformarlo en una serie de\n",
    "# Pandas\n",
    "y_pred = pd.Series(y_pred)\n",
    "# Como mencionamos antes, los valores índice de la serie de validación estan mal ordenados asi que debemos resetearlo\n",
    "y_pru = y_pru.reset_index(drop=True)"
   ]
  },
  {
   "cell_type": "markdown",
   "id": "c4be8d72-13bf-4815-8834-215a0a9ffd96",
   "metadata": {
    "tags": []
   },
   "source": [
    "Una vez hecho lo anterior, podemos realizar la gráfica comparativa usand MatPlotLib."
   ]
  },
  {
   "cell_type": "code",
   "execution_count": 15,
   "id": "4a751a21-496c-4140-aaad-e149086b5523",
   "metadata": {
    "tags": []
   },
   "outputs": [
    {
     "data": {
      "image/png": "[encoded data removed]",
      "text/plain": [
       "<Figure size 1600x600 with 1 Axes>"
      ]
     },
     "metadata": {},
     "output_type": "display_data"
    }
   ],
   "source": [
    "# Importemos el paquete necesario para crear las gráficas\n",
    "import matplotlib.pyplot as plt\n",
    "\n",
    "# Realicemos el gráfico\n",
    "plt.figure(figsize=(16,6))\n",
    "\n",
    "plt.plot(y_pru.index, y_pru, label='Valores reales')\n",
    "plt.plot(y_pred.index, y_pred, label='Valores pronosticados por la regresión')\n",
    "\n",
    "plt.xlabel('Indice')\n",
    "plt.ylabel('Precio de Venta de los Autos')\n",
    "\n",
    "plt.title('Gráfico Comparativo del Modelo')\n",
    "plt.legend()\n",
    "plt.grid(True)\n",
    "plt.show()"
   ]
  },
  {
   "cell_type": "markdown",
   "id": "a6ce9cd9-d3eb-4107-ab7a-95dbfe895d6f",
   "metadata": {},
   "source": [
    "# 3. Conclusiones y Notas\n",
    "\n",
    "Para terminar, queda claro que el modelo de regresión por medio de bosque aleatorio se ajusta de manera precisa a los datos y es capaz de pronosticar, en un grado aceptable, los precios de venta de un auto en base a las categorías de las que disponíamos (tipo de combustible, kilómetros recorridos, etc.). De manera más formal, el coeficiente de determinación $r^2$ determina qué tan bien predice la variabilidad un modelo, donde $0\\%$ significa que el modelo no explica nada de la variable dependiente y un $100\\%$ que el modelo explica perfectamente las variaciones de la variable. Nuestro modelo tiene un $r^2\\approx95\\%$, lo cual está bien e implica que nuestro modelo tiene capacidad de realizar pronósticos satisfactorios. Sin embargo, se debe tener cuidado, pues un coeficiente tan alto puede implicar un sobreajuste a los datos.\n",
    "\n",
    "Voy a realizar un artículo o post a futuro hablando más a detalle del uso para regresión y clasificación de los bosques aleatorios y los árboles de decisión. Realmente me sorprendió el nivel de exactitud del modelo, esto teniendo en cuenta que es la primera vez que lo uso de forma práctica con métodos computacionales. Además, me parece que, aunque el ajuste de hiperparámetros mejoró el modelo, esto no fue muy significativo, ya que el coeficiente $r^2$ solo aumentó un $2\\%$ aproximadamente, teniendo en cuenta el coste computacional extra que tiene ese proceso. Cabe mencionar que esa última parte de ajuste de hiperparámetros fue aquella cuyo código tardó más en ejecutarse y además con una diferencia significativa.\n",
    "\n",
    "Como se puede notar, a diferencia de los demás proyectos en este portafolio, este está organizado de manera diferente. Esto se debe a que en este me enfoqué más en presentar la información de manera más didáctica e ilustrativa. Evidentemente, todo lo hecho anteriormente se puede hacer de manera mucho más eficiente con menos líneas de código, pero, al menos para estos proyectos más centrados en ser auto-explicativos, me gusta más este enfoque."
   ]
  }
 ],
 "metadata": {
  "kernelspec": {
   "display_name": "Python 3 (ipykernel)",
   "language": "python",
   "name": "python3"
  },
  "language_info": {
   "codemirror_mode": {
    "name": "ipython",
    "version": 3
   },
   "file_extension": ".py",
   "mimetype": "text/x-python",
   "name": "python",
   "nbconvert_exporter": "python",
   "pygments_lexer": "ipython3",
   "version": "3.11.9"
  }
 },
 "nbformat": 4,
 "nbformat_minor": 5
}
