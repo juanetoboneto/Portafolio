{
 "cells": [
  {
   "cell_type": "markdown",
   "id": "29e79c8f-ac50-4465-b549-45b415e0018a",
   "metadata": {
    "tags": []
   },
   "source": [
    "<h1><span style=\"color:red\">Base de Datos Relacionales para una Red Social</span></h1>\n",
    "\n",
    "<p><h3><b>Nota:</b> Este proyecto aún no esta términado, faltan algunas funcionalidades y tambien le falta ser optimizado</h3></p>\n",
    "\n",
    "<h2><span style=\"color:blue\">1. Descripción del Proyecto</span></h2>\n",
    "<p>En este proyecto crearemos una serie de clases de python para crear una simulación de base de datos para una red social basada en texto que posea las siguientes características:\n",
    "<ul>\n",
    " <li>Almacene la información personal de los usuarios al momento de estos registrarse en la red social.\n",
    " <li>Genere un registro que permita relacionar seguidores con seguidos dentro de la red social.\n",
    " <li>Almacene las públicaciones en formato de texto de los usuarios y les asigne un registro único que relacione        publicación y publicador.\n",
    " <li>Lleve una lista de que usuarios hicieron like a que publicaciones.\n",
    " <li>Que las tablas donde se almacenacene toda esta información solo puedan ser creadas o eliminadas por un administrador mediante una contraseña.\n",
    " <li>Que las bases de datos actualicen su información en caso algun usuario deje de seguir a otro o deje de dar like a alguna publicacion.\n",
    " <li>La base de datos debe estar almacenada en el ordenador local.\n",
    "</ul>\n",
    "Para todo lo anterior utilizaremos unicamente el módulo de <a HREF=\"https://docs.python.org/es/3/library/sqlite3.html\">sqlite3</a> que nos permitira crear bases de datos relacionales utilizando el lenguaje SQL mediante la librería <a HREF=\"https://www.sqlite.org/index.html\">SQLite</a>, haciendo asi que podamos trabajar dentro de un notebook de Jupyter Lab. \n",
    "</p>"
   ]
  },
  {
   "cell_type": "code",
   "execution_count": 1,
   "id": "c2b2474f-d442-4c41-a817-e9a782dfb350",
   "metadata": {
    "tags": []
   },
   "outputs": [],
   "source": [
    "# %load_ext sql <-- Este se usaria si no tenemos dicha extensión instalada.\n",
    "import sqlite3\n",
    "\n",
    "# Por ahora, al estar trabajando de forma local, necesitaremos de una ruta en el ordenador:\n",
    "path='C:\\\\Users\\\\User\\\\Desktop\\\\Portafolio\\\\DataSets\\\\bases_de_datos_relacionales_i\\\\red_social_database.db'"
   ]
  },
  {
   "cell_type": "markdown",
   "id": "3fb45319-4d36-47c5-a8cd-50ff57e5091b",
   "metadata": {},
   "source": [
    "<h2><span style=\"color:blue\">2. Creando las Bases de Datos</span></h2>\n",
    "<p>Para cumplir con las condiciones que se nos piden, primero debemos crear la estructura de la Base de Datos, para ello sera necesario crear 4 tablas con las siguientes caracteristicas:\n",
    "<lu>\n",
    "<li><b>Tabla de Usuarios:</b> Que almacenara todas la información del usuario para que se registre, a saber: Su Seudónimo (que debe ser único), nombre (primero y segundo), teléfono y correo electrónico, además de llevar registro de cuando se creo la cuenta. Por razones obvias esta tabla no dependera de ninguna otra.\n",
    "<li><b>Tabla de Seguidores:</b> Que almacene el quien sigue a quien y donde evidentemente no se puede seguir a uno mismo o lo que es igual debe poseer: la identificación del usuario seguidor y la identificación del usuario seguido. Por lo anterior esta tabla solo dependera de la Tabla de Usuarios.\n",
    "<li><b>Tabla de Publicaciones:</b> Esta tabla debe almacenar: la identificación de la publicación, el texto de la publicación, los likes de la publicación y por supuesto la fecha en la que se hizo la publicación. De esta manera, se relacionara la tabla con la Tabla de Usuarios y la Tabla de Likes.\n",
    "<li><b>Tabla de likes:</b> Esta tabla debe contener un registro de quien realizo el like y a cual publicación la hizo. Se relacionara entonces con la Tabla de Usuarios y la Tabla de Publicaciones. \n",
    "</lu>\n",
    "Con todo lo anterior tendremos que la estructura de nuestra base de datos es de la siguiente manera:\n",
    "</p>\n",
    "<figure>\n",
    "<center>\n",
    "    <img src=\"https://raw.githubusercontent.com/juanetoboneto/Portafolio/DataSets/bases_de_datos_relacionales_i/Diagrama_de_base_de_datos_i.jpg\" width=\"600\" height=\"400\" align=\"center\" />\n",
    "</center>\n",
    "</figure>\n",
    "<p>\n",
    "Teniendo en cuenta lo que se nos pide, la creación y eliminación de las tablas las realizaremos dentro de la clase de los <I>administradores</I> como sigue:\n",
    "</p>"
   ]
  },
  {
   "cell_type": "code",
   "execution_count": 2,
   "id": "764aa915-ff5e-4ffb-ac42-2dcf5f762568",
   "metadata": {
    "tags": []
   },
   "outputs": [],
   "source": [
    "#Clase con las funcionalidades de Administrador :\n",
    "class administrador:\n",
    "      \n",
    " #Función para verificar la contraseña de administrador:    \n",
    " contraseña = \"contraseñaxd\" \n",
    " def verificar_contraseña(contraseña_ingresada):\n",
    "    return contraseña_ingresada == administrador.contraseña\n",
    "    \n",
    " #Funcionalidades de administrador para la tabla de usuarios:\n",
    "\n",
    " def crear_tabla_usuarios(contraseña_ingresada):\n",
    "    if administrador.verificar_contraseña(contraseña_ingresada):    \n",
    "     try:\n",
    "      conexion = sqlite3.connect(path)\n",
    "      cursor = conexion.cursor()\n",
    "      cursor.execute(\"\"\"CREATE TABLE IF NOT EXISTS tabla_usuarios (\n",
    "                        identificacion_usuario INTEGER PRIMARY KEY,\n",
    "                        seudonimo_usuario VARCHAR(20) NOT NULL UNIQUE,\n",
    "                        correo_electronico VARCHAR(40) NOT NULL UNIQUE,\n",
    "                        primer_nombre VARCHAR(80) NOT NULL,\n",
    "                        segundo_nombre VARCHAR(80) NOT NULL,\n",
    "                        telefono VARCHAR(12) UNIQUE,\n",
    "                        creado_el TIMESTAMP NOT NULL DEFAULT CURRENT_TIMESTAMP\n",
    "                     )\"\"\")\n",
    "      conexion.close()\n",
    "      print(\"Se pudo crear la Tabla de Usuarios correctamente.\")   \n",
    "     except Exception as e:\n",
    "            print(f\"No se pudo crear la tabla de usuarios. Error: {e}\")   \n",
    "    else:\n",
    "        print(\"Contraseña incorrecta\")\n",
    "    \n",
    " def eliminar_tabla_usuarios(contraseña_ingresada):\n",
    "    if administrador.verificar_contraseña(contraseña_ingresada):\n",
    "     try:\n",
    "      conexion = sqlite3.connect(path)\n",
    "      cursor = conexion.cursor()\n",
    "      cursor.execute(\"\"\"DROP TABLE IF EXISTS tabla_usuarios\"\"\")\n",
    "      conexion.close()\n",
    "      print(\"Se pudo eliminar la Tabla de Usuarios correctamente.\") \n",
    "     except Exception as e:\n",
    "            print(f\"No se pudo eliminar la tabla de usuarios. Error: {e}\")\n",
    "    else:\n",
    "        print(\"Contraseña incorrecta\")\n",
    "    \n",
    " #Funcionalidades de administrador para la tabla de seguidores:\n",
    "\n",
    " #Nota: esta tabla tiene la condición de que nadie puede seguirse a sí mismo\n",
    " def crear_tabla_seguidores(contraseña_ingresada):\n",
    "    if administrador.verificar_contraseña(contraseña_ingresada):\n",
    "        try:\n",
    "         conexion = sqlite3.connect(path)\n",
    "         cursor = conexion.cursor()\n",
    "         cursor.execute(\"\"\"CREATE TABLE IF NOT EXISTS tabla_seguidores (\n",
    "                           identificacion_seguidor INT NOT NULL,\n",
    "                           identificacion_seguido INT NOT NULL,\n",
    "                           FOREIGN KEY (identificacion_seguidor) REFERENCES tabla_usuarios(identificacion_usuario),\n",
    "                           FOREIGN KEY (identificacion_seguido) REFERENCES tabla_usuarios(identificacion_usuario),\n",
    "                           PRIMARY KEY (identificacion_seguidor, identificacion_seguido) \n",
    "                        )\"\"\")\n",
    "         conexion.close()\n",
    "         print(\"Se pudo crear la Tabla de Seguidores correctamente.\")\n",
    "        except Exception as e:\n",
    "            print(f\"No se pudo crear la Tabla de de Seguidores. Error: {e}\")\n",
    "    else:\n",
    "        print(\"Contraseña incorrecta\") \n",
    "\n",
    " def eliminar_tabla_seguidores(contraseña_ingresada):\n",
    "    if administrador.verificar_contraseña(contraseña_ingresada):\n",
    "        try:\n",
    "         conexion = sqlite3.connect(path)\n",
    "         cursor = conexion.cursor()\n",
    "         cursor.execute(\"\"\"DROP TABLE IF EXISTS tabla_seguidores\"\"\")\n",
    "         conexion.close()\n",
    "         print(\"Se pudo eliminar la Tabla de Seguidores correctamente.\")\n",
    "        except Exception as e:\n",
    "            print(f\"No se pudo eliminar la Tabla de Seguidores. Error: {e}\")\n",
    "    else:\n",
    "        print(\"Contraseña incorrecta\")\n",
    "        \n",
    " #Funcionalidades de administrador para la tabla de publicaciones:\n",
    " \n",
    " def crear_tabla_publicaciones(contraseña_ingresada):\n",
    "    if administrador.verificar_contraseña(contraseña_ingresada):\n",
    "        try:\n",
    "         conexion = sqlite3.connect(path)\n",
    "         cursor = conexion.cursor()\n",
    "         cursor.execute(\"\"\"CREATE TABLE IF NOT EXISTS tabla_publicaciones (\n",
    "                           identificacion_publicacion INTEGER PRIMARY KEY,\n",
    "                           identificacion_usuario INT NOT NULL,\n",
    "                           texto_publicacion VARCHAR(12000) NOT NULL,\n",
    "                           numero_likes INT DEFAULT 0,\n",
    "                           creado_en TIMESTAMP NOT NULL DEFAULT CURRENT_TIMESTAMP,\n",
    "                           FOREIGN KEY (identificacion_usuario) REFERENCES tabla_usuarios(identificacion_usuario)  \n",
    "                        )\"\"\")\n",
    "         conexion.close()\n",
    "         print(\"Se pudo crear la Tabla de Publicaciones correctamente.\")\n",
    "        except Exception as e:\n",
    "            print(f\"No se pudo crear la Tabla de Publicaciones. Error:{e}\")\n",
    "    else:\n",
    "        print(\"Contraseña incorrecta\")\n",
    "            \n",
    " def eliminar_tabla_publicaciones(contraseña_ingresada):\n",
    "    if administrador.verificar_contraseña(contraseña_ingresada):\n",
    "        try:\n",
    "         conexion = sqlite3.connect(path)\n",
    "         cursor = conexion.cursor()\n",
    "         cursor.execute(\"\"\"DROP TABLE IF EXISTS tabla_publicaciones\"\"\")\n",
    "         conexion.close()\n",
    "         print(\"Se pudo eliminar la Tabla de Publicaciones correctamente.\")\n",
    "        except Exception as e:\n",
    "            print(f\"No se pudo eliminar la Tabla de Publicaciones. Error:{e}\")\n",
    "    else:\n",
    "        print(\"Contraseña incorrecta\")\n",
    "            \n",
    " #Funcionalidades de administrador para la tabla de \"likes\":\n",
    "\n",
    " def crear_tabla_likes(contraseña_ingresada):\n",
    "    if administrador.verificar_contraseña(contraseña_ingresada):\n",
    "        try:\n",
    "         conexion = sqlite3.connect(path)\n",
    "         cursor = conexion.cursor()\n",
    "         cursor.execute(\"\"\"CREATE TABLE IF NOT EXISTS tabla_likes (\n",
    "                           identificacion_usuario INT NOT NULL,\n",
    "                           identificacion_publicacion INT NOT NULL,\n",
    "                           FOREIGN KEY (identificacion_usuario) REFERENCES tabla_usuarios(identificacion_usuario),\n",
    "                           FOREIGN KEY (identificacion_publicacion) REFERENCES tabla_publicaciones(identificacion_publicacion),\n",
    "                           PRIMARY KEY (identificacion_usuario, identificacion_publicacion)\n",
    "                        )\"\"\")\n",
    "         conexion.close()\n",
    "         print(\"Se pudo crear la Tabla de Likes correctamente.\")\n",
    "        except Exception as e:\n",
    "            print(f\"No se pudo crear la Tabla de Likes. Error:{e}\")\n",
    "    else:\n",
    "        print(\"Contraseña incorrecta\")\n",
    "\n",
    " def eliminar_tabla_likes(contraseña_ingresada):\n",
    "    if administrador.verificar_contraseña(contraseña_ingresada):\n",
    "        try:\n",
    "         conexion = sqlite3.connect(path)\n",
    "         cursor = conexion.cursor()\n",
    "         cursor.execute(\"\"\"DROP TABLE IF EXISTS tabla_likes\"\"\")\n",
    "         conexion.close()\n",
    "         print(\"Se pudo eliminar la Tabla de Likes correctamente.\")\n",
    "        except Exception as e:\n",
    "            print(f\"No se pudo eliminar la Tabla de Likes. Error:{e}\")\n",
    "    else:\n",
    "        print(\"Contraseña incorrecta\")\n",
    "        \n",
    " # Operaciones con multiples tablas:\n",
    "\n",
    " def crear_todas_las_tablas(contraseña_ingresada):\n",
    "   administrador.crear_tabla_usuarios(contraseña_ingresada)\n",
    "   administrador.crear_tabla_seguidores(contraseña_ingresada)\n",
    "   administrador.crear_tabla_publicaciones(contraseña_ingresada)\n",
    "   administrador.crear_tabla_likes(contraseña_ingresada)\n",
    "\n",
    " def eliminar_todas_las_tablas(contraseña_ingresada):\n",
    "  administrador.eliminar_tabla_usuarios(contraseña_ingresada)\n",
    "  administrador.eliminar_tabla_seguidores(contraseña_ingresada)\n",
    "  administrador.eliminar_tabla_publicaciones(contraseña_ingresada)\n",
    "  administrador.eliminar_tabla_likes(contraseña_ingresada)"
   ]
  },
  {
   "cell_type": "markdown",
   "id": "3bf42e41-9585-429e-9ffc-96a0f8afc5a0",
   "metadata": {},
   "source": [
    "<h2><span style=\"color:blue\">3. Creando las Funcionalidades de Usuario</span></h2>\n",
    "<p>\n",
    " La siguiente clase debe poseer todas las funciones que solo estan disponibles para las personas registradas en la base de datos, esto quiere decir que necesariamente estan registrados en la red social, o lo que es igual existen valores de ellos en la Tabla de Usuarios. Por las condiciones que se nos fueron dadas deben existir al menos 7 funciones (yo tambien planeo agregar algunas otras) a saber: registrar una cuenta, eliminar dicha cuenta, seguir otras cuentas, dejar de seguir dichas cuentas, publicar y eliminar cuentas, por último dar like. Todas esas funciones agregan o eliminan valores en la estructura de datos que creamos antes, para ello crearemos la clase para los Usuarios:\n",
    "</p>"
   ]
  },
  {
   "cell_type": "code",
   "execution_count": 3,
   "id": "d34a92b9-7800-4520-a120-0f5f0be2c092",
   "metadata": {
    "tags": []
   },
   "outputs": [],
   "source": [
    "# Creemos una clase que sintetize todas las funcionalidades para el usuario:\n",
    "class usuario:\n",
    " \n",
    " # Utilizaremos el instanciamiento de un usuario en la clase como su registro en la red social: \n",
    " def __init__(self,seudonimo_usuario, correo_electronico, primer_nombre, segundo_nombre, telefono):\n",
    "    \n",
    "    self.seudonimo_usuario = seudonimo_usuario\n",
    "    self.correo_electronico = correo_electronico\n",
    "    self.primer_nombre = primer_nombre\n",
    "    self.segundo_nombre = segundo_nombre\n",
    "    self.telefono = telefono\n",
    "\n",
    "    conexion = sqlite3.connect(path)\n",
    "    cursor = conexion.cursor()\n",
    "    cursor.execute(\"\"\"INSERT INTO tabla_usuarios (seudonimo_usuario, correo_electronico, primer_nombre, segundo_nombre, telefono)\n",
    "                   VALUES(?,?,?,?,?)\"\"\",\n",
    "                   (self.seudonimo_usuario, self.correo_electronico, self.primer_nombre, self.segundo_nombre, self.telefono))\n",
    "    conexion.commit()\n",
    "    conexion.close()\n",
    "    \n",
    "    print(f\"Su cuenta {seudonimo_usuario} ha sido creada correctamente.\")\n",
    "    \n",
    " # Funcionalidades de Usuario excusivas para la tabla de Usuarios:\n",
    "    \n",
    " def buscar_usuario(usuario, usuario_buscado):\n",
    "    conexion = sqlite3.connect(path)\n",
    "    cursor = conexion.cursor()\n",
    "    cursor.execute(\"SELECT seudonimo_usuario,primer_nombre,segundo_nombre FROM tabla_usuarios WHERE seudonimo_usuario=?\", (usuario_buscado,))\n",
    "    print(cursor.fetchall())\n",
    "    conexion.close()\n",
    "    \n",
    " def eliminar_usuario(usuario):\n",
    "    conexion = sqlite3.connect(path)\n",
    "    cursor = conexion.cursor()\n",
    "    cursor.execute(\"\"\"DELETE  FROM tabla_usuarios WHERE seudonimo_usuario = ?\"\"\", (usuario.seudonimo_usuario,))\n",
    "    conexion.commit()\n",
    "    conexion.close()\n",
    " \n",
    " # Funcionalidades de la tabla de seguidores:\n",
    "\n",
    " # Estas funcionalidades son algo más complicadas debido a que necesitaremos realizar queris por orden a la tabla de usuarios\n",
    " # para poder luego guardarlas en la tabla de seguidores:\n",
    "\n",
    " def seguir_usuario(usuario, seguir):\n",
    "  try:\n",
    "   # realizando la query del ID del seguidor:     \n",
    "   conexion_1 = sqlite3.connect(path)\n",
    "   cursor_1 = conexion_1.cursor()\n",
    "   cursor_1.execute(\"SELECT identificacion_usuario FROM tabla_usuarios WHERE seudonimo_usuario=?\",\n",
    "                   (usuario.seudonimo_usuario, ))\n",
    "   relacion_1 = cursor_1.fetchone()\n",
    "   conexion_1.close()   \n",
    "   x_1 = str(relacion_1[0])\n",
    "   # realizando la query del ID del seguido:\n",
    "   conexion_2 = sqlite3.connect(path)\n",
    "   cursor_2 = conexion_2.cursor()\n",
    "   cursor_2.execute(\"SELECT identificacion_usuario FROM tabla_usuarios WHERE seudonimo_usuario=?\",\n",
    "                   (seguir, ))\n",
    "   relacion_2 = cursor_2.fetchone()\n",
    "   conexion_2.close() \n",
    "   x_2 = str(relacion_2[0])\n",
    "   # guardando dicha relacion en la tabla de seguidores:\n",
    "   conexion_3 = sqlite3.connect(path)\n",
    "   cursor_3 = conexion_3.cursor()\n",
    "   cursor_3.execute(\"INSERT INTO tabla_seguidores (identificacion_seguidor, identificacion_seguido) VALUES(?,?)\", \n",
    "                    (x_1, x_2))\n",
    "   conexion_3.commit()\n",
    "   conexion_3.close()\n",
    "   print(f\"{usuario.seudonimo_usuario} ahora sigue a {seguir}\")\n",
    "  except Exception as e:\n",
    "    print(\"Tu cuenta o la de la persona que intentas seguir no existen.\")\n",
    "    \n",
    " def dejar_de_seguir_usuario(usuario, dejar_de_seguir):\n",
    "    try:\n",
    "     # realizando la query del ID del seguidor:     \n",
    "     conexion_1 = sqlite3.connect(path)\n",
    "     cursor_1 = conexion_1.cursor()\n",
    "     cursor_1.execute(\"SELECT identificacion_usuario FROM tabla_usuarios WHERE seudonimo_usuario=?\",\n",
    "                   (usuario.seudonimo_usuario, ))\n",
    "     relacion_1 = cursor_1.fetchone()\n",
    "     conexion_1.close()   \n",
    "     x_1 = str(relacion_1[0])\n",
    "     # realizando la query del ID del seguido:\n",
    "     conexion_2 = sqlite3.connect(path)\n",
    "     cursor_2 = conexion_2.cursor()\n",
    "     cursor_2.execute(\"SELECT identificacion_usuario FROM tabla_usuarios WHERE seudonimo_usuario=?\",\n",
    "                   (dejar_de_seguir, ))\n",
    "     relacion_2 = cursor_2.fetchone()\n",
    "     conexion_2.close() \n",
    "     x_2 = str(relacion_2[0])\n",
    "     # eliminando dicha relación de la tabla de seguidores:\n",
    "     conexion_3 = sqlite3.connect(path)\n",
    "     cursor_3 = conexion_3.cursor()\n",
    "     cursor_3.execute(\"\"\"DELETE FROM tabla_seguidores\n",
    "                         WHERE (identificacion_seguidor, identificacion_seguido) = (?, ?)\"\"\", (x_1, x_2))\n",
    "     conexion_3.commit()\n",
    "     conexion_3.close()\n",
    "     print(f\"{usuario.seudonimo_usuario} dejo de seguir a {dejar_de_seguir}\")\n",
    "    except Exception as e:\n",
    "        print(f\"No se pudo anular el seguido: Error {e}\")\n",
    "        \n",
    " # Funcionalidades de usuario para la Tabla de Publicaciones:\n",
    "\n",
    " # Podriamos utilizar una condición \"if\" para asegurarnos que la entrada de las publicaciones sea necesariamente\n",
    " # un string, sin embargo esto extenderia innecesariamente el código, solo para que a efectos prácticos se tenga \n",
    " # el mismo resultado que introducir una variable \"normal\".\n",
    "    \n",
    " def publicar_comentario(usuario, publicacion):\n",
    "    try:\n",
    "     conexion_1 = sqlite3.connect(path)\n",
    "     cursor_1 = conexion_1.cursor()\n",
    "     cursor_1.execute(\"SELECT identificacion_usuario FROM tabla_usuarios WHERE seudonimo_usuario=?\",\n",
    "                   (usuario.seudonimo_usuario, ))\n",
    "     id_usuario = cursor_1.fetchone()\n",
    "     conexion_1.close()  \n",
    "     id_usuario = str(id_usuario[0])\n",
    "     conexion_2 = sqlite3.connect(path)\n",
    "     cursor_2 = conexion_2.cursor()\n",
    "     cursor_2.execute(\"INSERT INTO tabla_publicaciones (identificacion_usuario, texto_publicacion) VALUES(?,?)\",\n",
    "                    (id_usuario, publicacion))\n",
    "     conexion_2.commit()\n",
    "     conexion_2.close()\n",
    "     print(\"Su comentario a sido publicado con éxito.\")\n",
    "    except Exception as e:\n",
    "     print(f\"Tu comentario no pudo ser publicado. Error:{e}\")\n",
    "  \n",
    " # Para la funcion de eliminar publicacion necesitaremos realizar 2 querys, una que nos de el ID del usuario y\n",
    " # otra que nos permita eliminar su comentario:\n",
    " def eliminar_publicacion(usuario, publicacion):\n",
    "  try:     \n",
    "   conexion_1 = sqlite3.connect(path)\n",
    "   cursor_1 = conexion_1.cursor()\n",
    "   cursor_1.execute(\"\"\"SELECT identificacion_usuario FROM tabla_usuarios \n",
    "                    WHERE seudonimo_usuario=?\"\"\", (usuario.seudonimo_usuario, ))\n",
    "   id_usuario = cursor_1.fetchone()\n",
    "   conexion_1.close()\n",
    "   id_usuario = str(id_usuario[0])\n",
    "   conexion_2 = sqlite3.connect(path)\n",
    "   cursor_2 = conexion_2.cursor()\n",
    "   cursor_2.execute(\"\"\"DELETE FROM tabla_publicaciones \n",
    "                    WHERE (identificacion_usuario, texto_publicacion) = (?,?)\"\"\",(id_usuario, publicacion))\n",
    "   conexion_2.commit()\n",
    "   conexion_2.close()\n",
    "   print(\"Su publicación a sido eliminado con éxito.\")\n",
    "  except Exception as e:\n",
    "   print(f\"Tu publicación no pudo ser eliminada. Error:{e}\")\n",
    "    \n",
    "    \n",
    " # Funcionalidades de usuario para la Tabla de Likes:\n",
    "\n",
    " def dar_like(usuario, publicador, publicacion):\n",
    "  try:     \n",
    "   conexion_1 = sqlite3.connect(path)\n",
    "   cursor_1 = conexion_1.cursor()\n",
    "   cursor_1.execute(\"\"\"SELECT identificacion_usuario FROM tabla_usuarios \n",
    "                    WHERE seudonimo_usuario=?\"\"\", (publicador, ))\n",
    "   id_publicador = cursor_1.fetchone()\n",
    "   conexion_1.close()\n",
    "   id_publicador = str(id_publicador[0])\n",
    "   conexion_2 = sqlite3.connect(path)\n",
    "   cursor_2 = conexion_2.cursor()\n",
    "   cursor_2.execute(\"\"\"SELECT identificacion_publicacion \n",
    "                       FROM tabla_publicaciones \n",
    "                       WHERE (identificacion_usuario, texto_publicacion)=(?,?)\"\"\", (id_publicador, publicacion))\n",
    "   id_publicacion = cursor_2.fetchone()\n",
    "   conexion_2.close()\n",
    "   id_publicacion = str(id_publicacion[0])\n",
    "   conexion_3 = sqlite3.connect(path)\n",
    "   cursor_3 = conexion_3.cursor()\n",
    "   cursor_3.execute(\"\"\"INSERT INTO tabla_likes (identificacion_usuario, identificacion_publicacion) VALUES(?,?)\"\"\",\n",
    "                    (id_publicador, id_publicacion))\n",
    "   conexion_3.commit()\n",
    "   conexion_3.close()\n",
    "   print(f\"A {usuario.seudonimo_usuario} le a gustado {publicacion}\")\n",
    "  except Exception as e:\n",
    "   print(f\"No se pudo dar like. Error:{e}\") "
   ]
  },
  {
   "cell_type": "markdown",
   "id": "f4637ef4-7052-4a4e-9b9a-e92347a5ec93",
   "metadata": {},
   "source": [
    "<h2><span style=\"color:blue\">3. Probando nuestras Bases de Datos</span></h2>\n",
    "<p>Por último veamos como se manejan nuestras bases de datos relacionales.\n",
    " Empecemos intentando crear las tablas sin la contraseña de administrador:</p>"
   ]
  },
  {
   "cell_type": "code",
   "execution_count": 4,
   "id": "ded4449b-006a-41ed-a973-1507ec9ac9ae",
   "metadata": {
    "tags": []
   },
   "outputs": [
    {
     "name": "stdout",
     "output_type": "stream",
     "text": [
      "Contraseña incorrecta\n"
     ]
    }
   ],
   "source": [
    "administrador.crear_tabla_usuarios(\"No la contraseña correcta\")"
   ]
  },
  {
   "cell_type": "markdown",
   "id": "03911228-928d-4eaf-aa0c-2b3cd3e50553",
   "metadata": {},
   "source": [
    "<p>Ahora veamos como se pueden eliminar y crear toda la estructura de bases de datos a la vez, siendo un administrador con la contraseña correcta:</p>"
   ]
  },
  {
   "cell_type": "code",
   "execution_count": 5,
   "id": "1bac7b25-a7b5-49a5-ac10-c8827abfcc14",
   "metadata": {
    "tags": []
   },
   "outputs": [
    {
     "name": "stdout",
     "output_type": "stream",
     "text": [
      "Se pudo crear la Tabla de Usuarios correctamente.\n",
      "Se pudo crear la Tabla de Seguidores correctamente.\n",
      "Se pudo crear la Tabla de Publicaciones correctamente.\n",
      "Se pudo crear la Tabla de Likes correctamente.\n"
     ]
    }
   ],
   "source": [
    "administrador.crear_todas_las_tablas(\"contraseñaxd\")"
   ]
  },
  {
   "cell_type": "markdown",
   "id": "e90c7d68-3531-4128-a4c9-61796ce8ea1e",
   "metadata": {},
   "source": [
    "<p>Tambien, creemos un ejemplo de 2 Usuarios que se instancian como objetos de dicha clase. Registrando, a su vez, dichos datos en la Tabla de usuarios:</p>"
   ]
  },
  {
   "cell_type": "code",
   "execution_count": 6,
   "id": "c37022ad-4835-42e7-8116-0bf1e7dd6633",
   "metadata": {
    "tags": []
   },
   "outputs": [
    {
     "name": "stdout",
     "output_type": "stream",
     "text": [
      "Su cuenta juan ha sido creada correctamente.\n",
      "Su cuenta jose ha sido creada correctamente.\n"
     ]
    }
   ],
   "source": [
    "juan = usuario(\"juan\", \"juanes@gmail.com\", \"juan\", \"esteban\", \"3014415299\")\n",
    "jose = usuario(\"jose\", \"josefo@gmail.com\", \"jose\", \"manuel\", \"3113739070\")"
   ]
  },
  {
   "cell_type": "markdown",
   "id": "9a76afa9-cb02-4338-b45e-d1c06b17fba7",
   "metadata": {},
   "source": [
    "Intentemos ahora buscar un usuario desde la perspectiva de alguien no registrado:"
   ]
  },
  {
   "cell_type": "code",
   "execution_count": 7,
   "id": "9dd6adc6-d615-4430-9c04-e22377885fa2",
   "metadata": {
    "tags": []
   },
   "outputs": [
    {
     "ename": "NameError",
     "evalue": "name 'alguien' is not defined",
     "output_type": "error",
     "traceback": [
      "\u001b[1;31m---------------------------------------------------------------------------\u001b[0m",
      "\u001b[1;31mNameError\u001b[0m                                 Traceback (most recent call last)",
      "Cell \u001b[1;32mIn[7], line 1\u001b[0m\n\u001b[1;32m----> 1\u001b[0m alguien\u001b[38;5;241m.\u001b[39mbuscar_usuario(\u001b[38;5;124m\"\u001b[39m\u001b[38;5;124mjuan\u001b[39m\u001b[38;5;124m\"\u001b[39m)\n",
      "\u001b[1;31mNameError\u001b[0m: name 'alguien' is not defined"
     ]
    }
   ],
   "source": [
    "alguien.buscar_usuario(\"juan\")"
   ]
  },
  {
   "cell_type": "markdown",
   "id": "ba59aa2a-ed64-4ca3-86b1-400f8ef67251",
   "metadata": {},
   "source": [
    "En cambio, si lo hacemos desde alguien ya instanciado:"
   ]
  },
  {
   "cell_type": "code",
   "execution_count": 8,
   "id": "d1a4d918-1b77-40b5-acad-3a3124184b9d",
   "metadata": {
    "tags": []
   },
   "outputs": [
    {
     "name": "stdout",
     "output_type": "stream",
     "text": [
      "[('juan', 'juan', 'esteban')]\n"
     ]
    }
   ],
   "source": [
    "jose.buscar_usuario(\"juan\")"
   ]
  },
  {
   "cell_type": "markdown",
   "id": "97001af3-1199-4586-b0b6-e85d4ae4a734",
   "metadata": {},
   "source": [
    "<p>Veamos en cambio, como se registran los seguidores y el dejar de seguir, mediante la correspondiente función:</p>"
   ]
  },
  {
   "cell_type": "code",
   "execution_count": 9,
   "id": "00c1dd2c-79d1-4d5f-807e-ebe0b9b60842",
   "metadata": {
    "tags": []
   },
   "outputs": [
    {
     "name": "stdout",
     "output_type": "stream",
     "text": [
      "juan ahora sigue a jose\n",
      "juan dejo de seguir a jose\n"
     ]
    }
   ],
   "source": [
    "juan.seguir_usuario(\"jose\")\n",
    "juan.dejar_de_seguir_usuario(\"jose\")"
   ]
  },
  {
   "cell_type": "markdown",
   "id": "f0d17ecf-20a5-4b87-930d-9077e76b78ad",
   "metadata": {},
   "source": [
    "<p>Con el ejemplo anterior veamos como se registran la publicacion de Juan y como Jose le da like al mismo:</p>"
   ]
  },
  {
   "cell_type": "code",
   "execution_count": 10,
   "id": "74bdef8a-9e33-4a27-aa59-f303ca66bed5",
   "metadata": {},
   "outputs": [
    {
     "name": "stdout",
     "output_type": "stream",
     "text": [
      "Su comentario a sido publicado con éxito.\n",
      "A jose le a gustado Hola gente, este es mi primer comentario siganme en esta red social plz\n"
     ]
    }
   ],
   "source": [
    "juan.publicar_comentario(\"Hola gente, este es mi primer comentario siganme en esta red social plz\")\n",
    "jose.dar_like(\"juan\", \"Hola gente, este es mi primer comentario siganme en esta red social plz\")"
   ]
  },
  {
   "cell_type": "markdown",
   "id": "7add32b9-1db1-4d7a-ad2d-00cd69e47783",
   "metadata": {},
   "source": [
    "Veamos como Juan se arrepiente de la publicación que hizo y decide eliminarla:"
   ]
  },
  {
   "cell_type": "code",
   "execution_count": 11,
   "id": "4a1b2f31-b91d-47ac-bcb3-310b654ffce4",
   "metadata": {
    "tags": []
   },
   "outputs": [
    {
     "name": "stdout",
     "output_type": "stream",
     "text": [
      "Su publicación a sido eliminado con éxito.\n"
     ]
    }
   ],
   "source": [
    "juan.eliminar_publicacion(\"Hola gente, este es mi primer comentario siganme en esta red social plz\")"
   ]
  },
  {
   "cell_type": "markdown",
   "id": "f675aa43-e2d8-459b-b75c-e0955378c9c8",
   "metadata": {},
   "source": [
    "<p>Por último eliminemos toda la estructura de datos que hicimos:</p>"
   ]
  },
  {
   "cell_type": "code",
   "execution_count": 12,
   "id": "34429e08-b7e1-4860-bbe9-8a0a0ede7b92",
   "metadata": {
    "tags": []
   },
   "outputs": [
    {
     "name": "stdout",
     "output_type": "stream",
     "text": [
      "Se pudo eliminar la Tabla de Usuarios correctamente.\n",
      "Se pudo eliminar la Tabla de Seguidores correctamente.\n",
      "Se pudo eliminar la Tabla de Publicaciones correctamente.\n",
      "Se pudo eliminar la Tabla de Likes correctamente.\n"
     ]
    }
   ],
   "source": [
    "administrador.eliminar_todas_las_tablas(\"contraseñaxd\")"
   ]
  }
 ],
 "metadata": {
  "kernelspec": {
   "display_name": "Python 3 (ipykernel)",
   "language": "python",
   "name": "python3"
  },
  "language_info": {
   "codemirror_mode": {
    "name": "ipython",
    "version": 3
   },
   "file_extension": ".py",
   "mimetype": "text/x-python",
   "name": "python",
   "nbconvert_exporter": "python",
   "pygments_lexer": "ipython3",
   "version": "3.11.3"
  }
 },
 "nbformat": 4,
 "nbformat_minor": 5
}
