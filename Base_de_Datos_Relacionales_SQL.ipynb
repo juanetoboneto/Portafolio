{
 "cells": [
  {
   "cell_type": "markdown",
   "id": "29e79c8f-ac50-4465-b549-45b415e0018a",
   "metadata": {
    "tags": []
   },
   "source": [
    "<h1><span style=\"color:red\">Base de Datos Relacionales para una Red Social</span></h1>\n",
    "\n",
    "<h2><span style=\"color:blue\">1. Descripción del Proyecto</span></h2>\n",
    "<p>En este proyecto crearemos una serie de clases de python para crear una simulación de base de datos para una red social basada en texto que posea las siguientes características:\n",
    "<ul>\n",
    " <li>Que solo los administradores puedan realizar queries no preestablecidas o crear/eliminar las tablas de la base de datos utilizando una contraseña.\n",
    " <li>Almacene la información personal de los usuarios al momento de estos registrarse en la red social.\n",
    " <li>Genere un registro que permita relacionar seguidores con seguidos dentro de la red social.\n",
    " <li>Almacene las públicaciones en formato de texto de los usuarios y les asigne un registro único que relacione        publicación y publicador.\n",
    " <li>Lleve una lista de que usuarios hicieron like a que publicaciones y se puedan ver quienes son los usuarios con mayor número de seguidores.\n",
    " <li>Que las bases de datos actualicen su información en caso algun usuario deje de seguir a otro o deje de dar like a alguna publicacion.\n",
    " <li>Que se puedan consultar de manera pública las publicaciones de un usuario junto con sus respectivos likes.\n",
    " <li>La base de datos debe estar almacenada en el ordenador local.\n",
    "</ul>\n",
    "Para todo lo anterior utilizaremos el módulo de <a HREF=\"https://docs.python.org/es/3/library/sqlite3.html\">sqlite3</a> que nos permitira crear bases de datos relacionales utilizando el lenguaje SQL mediante la librería <a HREF=\"https://www.sqlite.org/index.html\">SQLite</a>, tambien trabajaremos con Pandas; haciendo asi que podamos trabajar dentro de un notebook de Jupyter Lab. \n",
    "</p>"
   ]
  },
  {
   "cell_type": "code",
   "execution_count": 1,
   "id": "c2b2474f-d442-4c41-a817-e9a782dfb350",
   "metadata": {
    "tags": []
   },
   "outputs": [],
   "source": [
    "# %load_ext sql <-- Este se usaria si no tenemos dicha extensión instalada.\n",
    "import sqlite3\n",
    "import pandas as pd"
   ]
  },
  {
   "cell_type": "markdown",
   "id": "3fb45319-4d36-47c5-a8cd-50ff57e5091b",
   "metadata": {},
   "source": [
    "<h2><span style=\"color:blue\">2. Creando las Bases de Datos</span></h2>\n",
    "<p>Para cumplir con las condiciones que se nos piden, primero debemos crear la estructura de la Base de Datos, para ello sera necesario crear 4 tablas con las siguientes caracteristicas:\n",
    "<lu>\n",
    "<li><b>Tabla de Usuarios:</b> Que almacenara todas la información del usuario para que se registre, a saber: Su Seudónimo (que debe ser único), nombre (primero y segundo), teléfono y correo electrónico, además de llevar registro de cuando se creo la cuenta. Por razones obvias esta tabla no dependera de ninguna otra.\n",
    "<li><b>Tabla de Seguidores:</b> Que almacene el quien sigue a quien y donde evidentemente no se puede seguir a uno mismo o lo que es igual debe poseer: la identificación del usuario seguidor y la identificación del usuario seguido. Por lo anterior esta tabla solo dependera de la Tabla de Usuarios.\n",
    "<li><b>Tabla de Publicaciones:</b> Esta tabla debe almacenar: la identificación de la publicación, el texto de la publicación, los likes de la publicación y por supuesto la fecha en la que se hizo la publicación. De esta manera, se relacionara la tabla con la Tabla de Usuarios y la Tabla de Likes.\n",
    "<li><b>Tabla de likes:</b> Esta tabla debe contener un registro de quien realizo el like y a cual publicación la hizo. Se relacionara entonces con la Tabla de Usuarios y la Tabla de Publicaciones. \n",
    "</lu>\n",
    "Con todo lo anterior tendremos que la estructura de nuestra base de datos es de la siguiente manera:\n",
    "</p>\n",
    "\n",
    "![imagen](https://raw.githubusercontent.com/juanetoboneto/Portafolio/main/DataSets/bases_de_datos_relacionales_i/Diagrama_de_base_de_datos_i.jpg)\n",
    "\n",
    "<p>\n",
    "Teniendo en cuenta lo que se nos pide, debemos limitar las <EM>queries</EM> que realizamos a la base de datos para que únicamente puedan ser ejecutadas por los administradores, lo cual puede ser algo tedioso ya que se deben cubrir bastantes posibilidades. A pesar de ello, servirá para optimizar las demás clases que necesitamos crear. Todo esto, junto con la creación y eliminación de las tablas, lo llevaremos a cabo dentro de una clase que llamaremos <I>Administrador</I>, como sigue:\"\n",
    "</p>"
   ]
  },
  {
   "cell_type": "code",
   "execution_count": 2,
   "id": "764aa915-ff5e-4ffb-ac42-2dcf5f762568",
   "metadata": {
    "tags": []
   },
   "outputs": [],
   "source": [
    "#Clase con las funcionalidades de Administrador :\n",
    "class administrador:\n",
    " \n",
    " # Empecemos con las funciones de consultas para la Data Base:\n",
    "\n",
    " #Función para verificar la contraseña de administrador:    \n",
    " contraseña = \"contraseñaxd\" \n",
    " def verificar_contraseña(contraseña_ingresada):\n",
    "    return contraseña_ingresada == administrador.contraseña\n",
    "\n",
    " #Funcion para realizar las querys de sqlite3 (sin objetos instanciados):\n",
    " def query(contraseña_ingresada, peticion):\n",
    "    if administrador.verificar_contraseña(contraseña_ingresada):\n",
    "        path = 'C:\\\\Users\\\\User\\\\Desktop\\\\Portafolio\\\\DataSets\\\\bases_de_datos_relacionales_i\\\\red_social_database.db'\n",
    "        conexion = sqlite3.connect(path)\n",
    "        cursor = conexion.cursor()\n",
    "        cursor.execute(peticion)\n",
    "        conexion.close()\n",
    "    else:\n",
    "        pass\n",
    "    \n",
    " #Funcion de Query con commit (sin objetos instanciados):\n",
    " def query_commit(contraseña_ingresada, peticion):\n",
    "    if administrador.verificar_contraseña(contraseña_ingresada):\n",
    "        path = 'C:\\\\Users\\\\User\\\\Desktop\\\\Portafolio\\\\DataSets\\\\bases_de_datos_relacionales_i\\\\red_social_database.db'\n",
    "        conexion = sqlite3.connect(path)\n",
    "        cursor = conexion.cursor()\n",
    "        cursor.execute(peticion)\n",
    "        conexion.commit()\n",
    "        conexion.close()\n",
    "    else:\n",
    "        pass\n",
    "    \n",
    " # Query con objetos instanciados:\n",
    " def query_instanciado(contraseña_ingresada, peticion, objetos):\n",
    "    if administrador.verificar_contraseña(contraseña_ingresada):\n",
    "        path = 'C:\\\\Users\\\\User\\\\Desktop\\\\Portafolio\\\\DataSets\\\\bases_de_datos_relacionales_i\\\\red_social_database.db'\n",
    "        conexion = sqlite3.connect(path)\n",
    "        cursor = conexion.cursor()\n",
    "        cursor.execute(peticion, objetos)\n",
    "        conexion.close()\n",
    "    else:\n",
    "        pass\n",
    "\n",
    " # Query de commit con objetos instanciados:\n",
    " def query_instanciado_commit(contraseña_ingresada, peticion, objetos):\n",
    "    if administrador.verificar_contraseña(contraseña_ingresada):\n",
    "        path = 'C:\\\\Users\\\\User\\\\Desktop\\\\Portafolio\\\\DataSets\\\\bases_de_datos_relacionales_i\\\\red_social_database.db'\n",
    "        conexion = sqlite3.connect(path)\n",
    "        cursor = conexion.cursor()\n",
    "        cursor.execute(peticion, objetos)\n",
    "        conexion.commit()\n",
    "        conexion.close()\n",
    "    else:\n",
    "        pass\n",
    "\n",
    " # Un Query instanciado con petición:\n",
    " def query_busqueda(contraseña_ingresada, peticion, objetos):\n",
    "    if administrador.verificar_contraseña(contraseña_ingresada):\n",
    "        path = 'C:\\\\Users\\\\User\\\\Desktop\\\\Portafolio\\\\DataSets\\\\bases_de_datos_relacionales_i\\\\red_social_database.db'\n",
    "        conexion = sqlite3.connect(path)\n",
    "        cursor = conexion.cursor()\n",
    "        cursor.execute(peticion, objetos)\n",
    "        resultado = str(cursor.fetchone()[0])\n",
    "        conexion.close()\n",
    "        return resultado\n",
    "    else:\n",
    "        pass\n",
    "    \n",
    "  # Query de busqueda múltiple:\n",
    " def query_busqueda_multiple(contraseña_ingresada, peticion, objetos):\n",
    "    if administrador.verificar_contraseña(contraseña_ingresada):\n",
    "        path='C:\\\\Users\\\\User\\\\Desktop\\\\Portafolio\\\\DataSets\\\\bases_de_datos_relacionales_i\\\\red_social_database.db'\n",
    "        conexion = sqlite3.connect(path)\n",
    "        cursor = conexion.cursor()\n",
    "        cursor.execute(peticion, objetos)\n",
    "        resultado = cursor.fetchall()\n",
    "        conexion.close()\n",
    "        return resultado\n",
    "    else:\n",
    "        pass\n",
    "    \n",
    " # Query de busqueda múltiple sin objetos:\n",
    " def query_BMSO(contraseña_ingresada, peticion):\n",
    "    if administrador.verificar_contraseña(contraseña_ingresada):\n",
    "        path='C:\\\\Users\\\\User\\\\Desktop\\\\Portafolio\\\\DataSets\\\\bases_de_datos_relacionales_i\\\\red_social_database.db'\n",
    "        conexion = sqlite3.connect(path)\n",
    "        cursor = conexion.cursor()\n",
    "        cursor.execute(peticion)\n",
    "        resultado = cursor.fetchall()\n",
    "        conexion.close()\n",
    "        return resultado\n",
    "    else:\n",
    "        pass\n",
    "    \n",
    "# Con ello podremos empezar las funciones de administrador para las tablas de la Data Base:\n",
    "    \n",
    " #Funcionalidades de administrador para la tabla de usuarios:\n",
    "\n",
    " def crear_tabla_usuarios(contraseña_ingresada):\n",
    "    if administrador.verificar_contraseña(contraseña_ingresada):    \n",
    "     try:\n",
    "      administrador.query(contraseña_ingresada, \"\"\"CREATE TABLE IF NOT EXISTS tabla_usuarios (\n",
    "                        identificacion_usuario INTEGER PRIMARY KEY,\n",
    "                        seudonimo_usuario VARCHAR(20) NOT NULL UNIQUE,\n",
    "                        correo_electronico VARCHAR(40) NOT NULL UNIQUE,\n",
    "                        primer_nombre VARCHAR(80) NOT NULL,\n",
    "                        segundo_nombre VARCHAR(80) NOT NULL,\n",
    "                        telefono VARCHAR(12) UNIQUE,\n",
    "                        creado_el TIMESTAMP NOT NULL DEFAULT CURRENT_TIMESTAMP )\"\"\")\n",
    "      print(\"Se pudo crear la Tabla de Usuarios correctamente.\")   \n",
    "     except Exception as e:\n",
    "            print(f\"No se pudo crear la tabla de usuarios. Error: {e}\")   \n",
    "    else:\n",
    "        print(\"Contraseña incorrecta\")\n",
    "    \n",
    " def eliminar_tabla_usuarios(contraseña_ingresada):\n",
    "    if administrador.verificar_contraseña(contraseña_ingresada):\n",
    "     try:\n",
    "      administrador.query(contraseña_ingresada,\"\"\"DROP TABLE IF EXISTS tabla_usuarios\"\"\")\n",
    "      print(\"Se pudo eliminar la Tabla de Usuarios correctamente.\") \n",
    "     except Exception as e:\n",
    "            print(f\"No se pudo eliminar la tabla de usuarios. Error: {e}\")\n",
    "    else:\n",
    "        print(\"Contraseña incorrecta\")\n",
    "    \n",
    " #Funcionalidades de administrador para la tabla de seguidores:\n",
    " #Nota: esta tabla tiene la condición de que nadie puede seguirse a sí mismo\n",
    " def crear_tabla_seguidores(contraseña_ingresada):\n",
    "    if administrador.verificar_contraseña(contraseña_ingresada):\n",
    "        try:\n",
    "         administrador.query(contraseña_ingresada, \"\"\"CREATE TABLE IF NOT EXISTS tabla_seguidores (\n",
    "                           identificacion_seguidor INT NOT NULL,\n",
    "                           identificacion_seguido INT NOT NULL,\n",
    "                           FOREIGN KEY (identificacion_seguidor) REFERENCES tabla_usuarios(identificacion_usuario),\n",
    "                           FOREIGN KEY (identificacion_seguido) REFERENCES tabla_usuarios(identificacion_usuario),\n",
    "                           PRIMARY KEY (identificacion_seguidor, identificacion_seguido) )\"\"\")\n",
    "         print(\"Se pudo crear la Tabla de Seguidores correctamente.\")\n",
    "        except Exception as e:\n",
    "            print(f\"No se pudo crear la Tabla de de Seguidores. Error: {e}\")\n",
    "    else:\n",
    "        print(\"Contraseña incorrecta\") \n",
    "\n",
    " def eliminar_tabla_seguidores(contraseña_ingresada):\n",
    "    if administrador.verificar_contraseña(contraseña_ingresada):\n",
    "        try:\n",
    "         administrador.query(contraseña_ingresada, \"\"\"DROP TABLE IF EXISTS tabla_seguidores\"\"\")\n",
    "         print(\"Se pudo eliminar la Tabla de Seguidores correctamente.\")\n",
    "        except Exception as e:\n",
    "            print(f\"No se pudo eliminar la Tabla de Seguidores. Error: {e}\")\n",
    "    else:\n",
    "        print(\"Contraseña incorrecta\")\n",
    "        \n",
    " #Funcionalidades de administrador para la tabla de publicaciones:\n",
    " \n",
    " def crear_tabla_publicaciones(contraseña_ingresada):\n",
    "    if administrador.verificar_contraseña(contraseña_ingresada):\n",
    "        try:\n",
    "         administrador.query(contraseña_ingresada, \"\"\"CREATE TABLE IF NOT EXISTS tabla_publicaciones (\n",
    "                           identificacion_publicacion INTEGER PRIMARY KEY,\n",
    "                           identificacion_usuario INT NOT NULL,\n",
    "                           texto_publicacion VARCHAR(12000) NOT NULL,\n",
    "                           numero_likes INT DEFAULT 0,\n",
    "                           creado_en TIMESTAMP NOT NULL DEFAULT CURRENT_TIMESTAMP,\n",
    "                           FOREIGN KEY (identificacion_usuario) REFERENCES tabla_usuarios(identificacion_usuario) )\"\"\")\n",
    "         print(\"Se pudo crear la Tabla de Publicaciones correctamente.\")\n",
    "        except Exception as e:\n",
    "            print(f\"No se pudo crear la Tabla de Publicaciones. Error:{e}\")\n",
    "    else:\n",
    "        print(\"Contraseña incorrecta\")\n",
    "            \n",
    " def eliminar_tabla_publicaciones(contraseña_ingresada):\n",
    "    if administrador.verificar_contraseña(contraseña_ingresada):\n",
    "        try:\n",
    "         administrador.query(contraseña_ingresada, \"\"\"DROP TABLE IF EXISTS tabla_publicaciones\"\"\")\n",
    "         print(\"Se pudo eliminar la Tabla de Publicaciones correctamente.\")\n",
    "        except Exception as e:\n",
    "            print(f\"No se pudo eliminar la Tabla de Publicaciones. Error:{e}\")\n",
    "    else:\n",
    "        print(\"Contraseña incorrecta\")\n",
    "            \n",
    " #Funcionalidades de administrador para la tabla de \"likes\":\n",
    "\n",
    " def crear_tabla_likes(contraseña_ingresada):\n",
    "    if administrador.verificar_contraseña(contraseña_ingresada):\n",
    "        try:\n",
    "         administrador.query(contraseña_ingresada, \"\"\"CREATE TABLE IF NOT EXISTS tabla_likes (\n",
    "                        identificacion_usuario INT NOT NULL,\n",
    "                        identificacion_publicacion INT NOT NULL,\n",
    "                        FOREIGN KEY (identificacion_usuario) REFERENCES tabla_usuarios(identificacion_usuario),\n",
    "                        FOREIGN KEY (identificacion_publicacion) REFERENCES tabla_publicaciones(identificacion_publicacion),\n",
    "                        PRIMARY KEY (identificacion_usuario, identificacion_publicacion))\"\"\")\n",
    "         print(\"Se pudo crear la Tabla de Likes correctamente.\")\n",
    "        except Exception as e:\n",
    "            print(f\"No se pudo crear la Tabla de Likes. Error:{e}\")\n",
    "    else:\n",
    "        print(\"Contraseña incorrecta\")\n",
    "\n",
    " def eliminar_tabla_likes(contraseña_ingresada):\n",
    "    if administrador.verificar_contraseña(contraseña_ingresada):\n",
    "        try:\n",
    "         administrador.query(contraseña_ingresada, \"\"\"DROP TABLE IF EXISTS tabla_likes\"\"\")\n",
    "         print(\"Se pudo eliminar la Tabla de Likes correctamente.\")\n",
    "        except Exception as e:\n",
    "            print(f\"No se pudo eliminar la Tabla de Likes. Error:{e}\")\n",
    "    else:\n",
    "        print(\"Contraseña incorrecta\")\n",
    "        \n",
    " # Operaciones con multiples tablas:\n",
    "\n",
    " def crear_todas_las_tablas(contraseña_ingresada):\n",
    "   administrador.crear_tabla_usuarios(contraseña_ingresada)\n",
    "   administrador.crear_tabla_seguidores(contraseña_ingresada)\n",
    "   administrador.crear_tabla_publicaciones(contraseña_ingresada)\n",
    "   administrador.crear_tabla_likes(contraseña_ingresada)\n",
    "\n",
    " def eliminar_todas_las_tablas(contraseña_ingresada):\n",
    "  administrador.eliminar_tabla_usuarios(contraseña_ingresada)\n",
    "  administrador.eliminar_tabla_seguidores(contraseña_ingresada)\n",
    "  administrador.eliminar_tabla_publicaciones(contraseña_ingresada)\n",
    "  administrador.eliminar_tabla_likes(contraseña_ingresada)"
   ]
  },
  {
   "cell_type": "markdown",
   "id": "3bf42e41-9585-429e-9ffc-96a0f8afc5a0",
   "metadata": {},
   "source": [
    "<h2><span style=\"color:blue\">3. Creando las Funcionalidades de Usuario</span></h2>\n",
    "\n",
    "<p>\n",
    "La siguiente clase debe poseer todas las funciones que solo estan disponibles para las personas registradas en la base de datos, esto quiere decir que necesariamente estan registrados en la red social, o lo que es igual existen valores de ellos en la Tabla de Usuarios. Por las condiciones que se nos fueron dadas deben existir al menos las siguientes funciones:\n",
    "<lu>\n",
    "<li>Almacenar los datos de un usuario al registrarse en la red social y que, si este lo desea, eliminar su cuenta y la información que dio.\n",
    "<li>Despues de registrado, ser capaz de seguir o dejar de seguir otras cuentas.\n",
    "<li>Poder publicar comentarios de texto y ser capaz de eliminarlos dado el caso.\n",
    "<li>Poder dar like o anular el like a comentarios propios o de otros usuarios.\n",
    "</lu>\n",
    "<br>\n",
    "Para todas estas funcionalidades crearemos la clase <EM>Usuarios</EM>:\n",
    "</p>"
   ]
  },
  {
   "cell_type": "code",
   "execution_count": 3,
   "id": "d34a92b9-7800-4520-a120-0f5f0be2c092",
   "metadata": {
    "tags": []
   },
   "outputs": [],
   "source": [
    "# Creemos una clase que sintetize todas las funcionalidades para el usuario:\n",
    "class usuario:\n",
    " \n",
    " # Funcionalidades de Usuario para la tabla de usuarios:\n",
    "    \n",
    " # Utilizaremos el instanciamiento de un usuario en la clase como su registro en la red social: \n",
    " def __init__(self,seudonimo_usuario, correo_electronico, primer_nombre, segundo_nombre, telefono):\n",
    "    \n",
    "    self.seudonimo_usuario = seudonimo_usuario\n",
    "    self.correo_electronico = correo_electronico\n",
    "    self.primer_nombre = primer_nombre\n",
    "    self.segundo_nombre = segundo_nombre\n",
    "    self.telefono = telefono\n",
    "\n",
    "    administrador.query_instanciado_commit(\"contraseñaxd\", \"\"\"INSERT INTO tabla_usuarios \n",
    "                   (seudonimo_usuario, correo_electronico, primer_nombre, segundo_nombre, telefono) VALUES(?,?,?,?,?)\"\"\", \n",
    "                   (self.seudonimo_usuario, self.correo_electronico, self.primer_nombre, self.segundo_nombre, self.telefono))\n",
    "    \n",
    "    print(f\"Su cuenta {seudonimo_usuario} ha sido creada correctamente.\")\n",
    "    \n",
    "    \n",
    " def eliminar_usuario(usuario):\n",
    "  try:\n",
    "    administrador.query_instanciado_commit(\"contraseñaxd\", \"\"\"DELETE  FROM tabla_usuarios \n",
    "                                           WHERE seudonimo_usuario = ?\"\"\", (usuario.seudonimo_usuario,))\n",
    "    print(f\"La cuenta {usuario.seudonimo_usuario} fue eliminada correctamente.\")\n",
    "  except Exception as e:\n",
    "    print(f\"No se pudo eliminar la cuenta. Error:{e}\")\n",
    "\n",
    " \n",
    " # Funcionalidades de la tabla de seguidores:\n",
    "\n",
    " # Estas funcionalidades son algo más complicadas debido a que necesitaremos realizar queris por orden a la tabla de usuarios\n",
    " # para poder luego guardarlas en la tabla de seguidores:\n",
    "\n",
    " def seguir_usuario(usuario, seguir):\n",
    "  try:\n",
    "   # realizando la query del ID del seguidor:     \n",
    "   x_1 = administrador.query_busqueda(\"contraseñaxd\", \"\"\"SELECT identificacion_usuario \n",
    "                    FROM tabla_usuarios WHERE seudonimo_usuario=?\"\"\", (usuario.seudonimo_usuario, ))\n",
    "   # realizando la query del ID del seguido:\n",
    "   x_2 = administrador.query_busqueda(\"contraseñaxd\", \"\"\"SELECT identificacion_usuario \n",
    "                    FROM tabla_usuarios WHERE seudonimo_usuario=?\"\"\", (seguir, ))\n",
    "   # guardando dicha relacion en la tabla de seguidores:\n",
    "   administrador.query_instanciado_commit(\"contraseñaxd\", \"\"\"INSERT INTO tabla_seguidores\n",
    "                                          (identificacion_seguidor, identificacion_seguido) VALUES(?,?)\"\"\", (x_1, x_2))\n",
    "   print(f\"{usuario.seudonimo_usuario} ahora sigue a {seguir}\")\n",
    "  except Exception as e:\n",
    "    print(\"Tu cuenta o la de la persona que intentas seguir no existen.\")\n",
    "    \n",
    " def dejar_de_seguir_usuario(usuario, dejar_de_seguir):\n",
    "    try:\n",
    "     # realizando la query del ID del seguidor:\n",
    "     x_1 = administrador.query_busqueda(\"contraseñaxd\", \"\"\"SELECT identificacion_usuario \n",
    "                                  FROM tabla_usuarios WHERE seudonimo_usuario=?\"\"\", (usuario.seudonimo_usuario, ))\n",
    "     # realizando la query del ID del seguido:\n",
    "     x_2 = administrador.query_busqueda(\"contraseñaxd\", \"\"\"SELECT identificacion_usuario \n",
    "                      FROM tabla_usuarios WHERE seudonimo_usuario=?\"\"\", (dejar_de_seguir, ))\n",
    "     # eliminando dicha relación de la tabla de seguidores:\n",
    "     administrador.query_instanciado_commit(\"contraseñaxd\", \"\"\"DELETE FROM tabla_seguidores\n",
    "                                            WHERE (identificacion_seguidor, identificacion_seguido) = (?, ?)\"\"\", (x_1, x_2))\n",
    "     print(f\"{usuario.seudonimo_usuario} dejo de seguir a {dejar_de_seguir}\")\n",
    "    except Exception as e:\n",
    "        print(f\"No se pudo anular el seguido: Error {e}\")\n",
    "        \n",
    " # Funcionalidades de usuario para la Tabla de Publicaciones:\n",
    "\n",
    " # Podriamos utilizar una condición \"if\" para asegurarnos que la entrada de las publicaciones sea necesariamente\n",
    " # un string, sin embargo esto extenderia innecesariamente el código, solo para que a efectos prácticos se tenga \n",
    " # el mismo resultado que introducir una variable \"normal\".\n",
    "    \n",
    " def publicar_comentario(usuario, publicacion):\n",
    "    try:\n",
    "     id_usuario = administrador.query_busqueda(\"contraseñaxd\", \"\"\"SELECT identificacion_usuario \n",
    "                      FROM tabla_usuarios WHERE seudonimo_usuario=?\"\"\", (usuario.seudonimo_usuario, ))\n",
    "     administrador.query_instanciado_commit(\"contraseñaxd\", \"\"\"INSERT INTO tabla_publicaciones \n",
    "                            (identificacion_usuario, texto_publicacion) VALUES(?,?)\"\"\", (id_usuario, publicacion))\n",
    "     print(\"Su comentario a sido publicado con éxito.\")\n",
    "    except Exception as e:\n",
    "     print(f\"Tu comentario no pudo ser publicado. Error:{e}\")\n",
    "  \n",
    " # Para la funcion de eliminar publicacion necesitaremos realizar 2 querys, una que nos de el ID del usuario y\n",
    " # otra que nos permita eliminar su comentario:\n",
    " def eliminar_publicacion(usuario, publicacion):\n",
    "  try:\n",
    "   id_usuario = administrador.query_busqueda(\"contraseñaxd\", \"\"\"SELECT identificacion_usuario FROM tabla_usuarios \n",
    "                                WHERE seudonimo_usuario=?\"\"\", (usuario.seudonimo_usuario, ))\n",
    "   administrador.query_instanciado_commit(\"contraseñaxd\", \"\"\"DELETE FROM tabla_publicaciones \n",
    "                                     WHERE (identificacion_usuario, texto_publicacion) = (?,?)\"\"\",(id_usuario, publicacion))\n",
    "   print(\"Su publicación a sido eliminado con éxito.\")\n",
    "  except Exception as e:\n",
    "   print(f\"Tu publicación no pudo ser eliminada. Error:{e}\")\n",
    "    \n",
    "    \n",
    " # Funcionalidades de usuario para la Tabla de Likes:\n",
    "\n",
    " def dar_like(usuario, publicador, publicacion):\n",
    "  try:\n",
    "   id_publicador = administrador.query_busqueda(\"contraseñaxd\", \"\"\"SELECT identificacion_usuario FROM tabla_usuarios \n",
    "                    WHERE seudonimo_usuario=?\"\"\", (publicador, ))\n",
    "   id_publicacion = administrador.query_busqueda(\"contraseñaxd\", \"\"\"SELECT identificacion_publicacion FROM tabla_publicaciones \n",
    "                    WHERE (identificacion_usuario, texto_publicacion)=(?,?)\"\"\", (id_publicador, publicacion))\n",
    "   administrador.query_instanciado_commit(\"contraseñaxd\", \"\"\"INSERT INTO tabla_likes \n",
    "                    (identificacion_usuario, identificacion_publicacion) VALUES(?,?)\"\"\", (id_publicador, id_publicacion))\n",
    "   print(f\"A {usuario.seudonimo_usuario} le a gustado {publicacion}\")\n",
    "  except Exception as e:\n",
    "   print(f\"No se pudo dar like. Error:{e}\") \n",
    "\n",
    " def anular_like(usuario, publicador, publicacion):\n",
    "  try:\n",
    "   id_publicador = administrador.query_busqueda(\"contraseñaxd\", \"\"\"SELECT identificacion_usuario FROM tabla_usuarios \n",
    "                    WHERE seudonimo_usuario=?\"\"\", (publicador, ))\n",
    "   id_publicacion = administrador.query_busqueda(\"contraseñaxd\", \"\"\"SELECT identificacion_publicacion FROM tabla_publicaciones \n",
    "                    WHERE (identificacion_usuario, texto_publicacion)=(?,?)\"\"\", (id_publicador, publicacion))\n",
    "   administrador.query_instanciado_commit(\"contraseñaxd\", \"\"\"DELETE FROM tabla_likes \n",
    "                    WHERE (identificacion_usuario, identificacion_publicacion)=(?,?)\"\"\", (id_publicador, id_publicacion))\n",
    "  except Exception as e:\n",
    "    print(f\"No se pudo anular tu like. Error: {e}\")"
   ]
  },
  {
   "cell_type": "markdown",
   "id": "8e4be7a7-8df2-4362-adf0-c2741f7b62bd",
   "metadata": {
    "tags": []
   },
   "source": [
    "<h2><span style=\"color:blue\">4. Funcionalidades Públicas</span></h2>\n",
    "\n",
    "<p> En nuestra base de datos, además de realizar cambios como administradores y consultas como usuarios, también es necesario que podamos extraer cierta información de manera totalmente pública. Para ello, crearemos una clase diferenciada, la cual no deberá instanciar objetos ni utilizar contraseñas para obtener datos y que debe tener las siguientes funcionalidades:\n",
    "<ul>\n",
    "  <li>Que cualquiera en la red pueda consultar el nombre de un usuario en la red social.\n",
    "  <li>Que cualquiera pueda encontrar la identificación o registro de una publicación dentro de la red social.\n",
    "  <li>Se pueda ver una lista de las publicaciones de cualquier persona junto con el número de likes de cada una.\n",
    "  <li>Cualquiera pueda observar quiénes son los 3 usuarios más seguidos en orden descendente y su respectivo número de seguidores. \n",
    "</ul>\n",
    "Para todas estas funcionalidades que faltan, creamos la clase <EM>Público</EM>:\n",
    "</p>"
   ]
  },
  {
   "cell_type": "code",
   "execution_count": 4,
   "id": "55c65549-1202-4f53-b8d0-4296c079c00c",
   "metadata": {
    "tags": []
   },
   "outputs": [],
   "source": [
    "class publico:\n",
    "\n",
    " # Funcion para buscar usuarios:\n",
    " def buscar_usuario(usuario_buscado):\n",
    "  try:\n",
    "    usuario_encontrado = administrador.query_busqueda_multiple(\"contraseñaxd\",\n",
    "                          \"\"\"SELECT primer_nombre, segundo_nombre FROM tabla_usuarios \n",
    "                             WHERE seudonimo_usuario=?\"\"\",(usuario_buscado,))\n",
    "    print(f\"El nombre del usuario al que buscas es: {usuario_encontrado[0][0]} {usuario_encontrado[0][1]}.\")\n",
    "  except Exception as e:\n",
    "    print(f\"No se pudo encontrar al Usuario. Error:{e}\")\n",
    "    \n",
    " # Buscar la identificacion de una publicacion   \n",
    " def buscar_registro_publicacion(usuario_publicador, texto_publicacion):\n",
    "  try:\n",
    "    id_usuario = administrador.query_busqueda(\"contraseñaxd\", \"\"\"SELECT identificacion_usuario \n",
    "                      FROM tabla_usuarios WHERE seudonimo_usuario=?\"\"\", (usuario_publicador, ))\n",
    "    id_publicaciones = administrador.query_busqueda(\"contraseñaxd\", \"\"\"SELECT identificacion_publicacion \n",
    "       FROM tabla_publicaciones WHERE (identificacion_usuario, texto_publicacion) = (?,?)\"\"\", (id_usuario, texto_publicacion))\n",
    "    print(f\"El número de registro de la publicación del usuario {usuario_publicador} es {id_publicaciones}.\")\n",
    "  except Exception as e:\n",
    "    print(f\"Ocurrio un problema durante la busqueda. Error:{e}\")\n",
    "\n",
    " # Generar una lista de comentarios junto con likes:\n",
    " def lista_publicaciones(usuario_publicador):\n",
    "  try:\n",
    "   id_usuario = administrador.query_busqueda(\"contraseñaxd\", \"\"\"SELECT identificacion_usuario \n",
    "                      FROM tabla_usuarios WHERE seudonimo_usuario=?\"\"\", (usuario_publicador, ))\n",
    "   informacion = administrador.query_busqueda_multiple(\"contraseñaxd\",\n",
    "                    \"\"\"SELECT texto_publicacion, COUNT(*) AS numero_likes FROM tabla_publicaciones\n",
    "                       WHERE identificacion_usuario =?\"\"\", (id_usuario,))\n",
    "   informacion = pd.DataFrame(informacion, columns=[\"Comentario\", \"Número de Likes\"])\n",
    "   print(informacion)\n",
    "  except Exception as e:\n",
    "    print(f\"Ocurrio algun fallo en la busqueda. Error:{e}\")\n",
    "    \n",
    " # Top 3 los usuarios más seguidos:\n",
    " def top_seguidos():\n",
    "  try:\n",
    "    lista = administrador.query_BMSO(\"contraseñaxd\", \n",
    "             \"\"\"SELECT seudonimo_usuario, COUNT(identificacion_seguidor) FROM tabla_seguidores \n",
    "                JOIN tabla_usuarios ON (tabla_usuarios.identificacion_usuario = tabla_seguidores.identificacion_seguido)\n",
    "                GROUP BY identificacion_seguido ORDER BY COUNT(identificacion_seguidor) DESC LIMIT 3\"\"\")\n",
    "    lista = pd.DataFrame(lista, columns=[\"Usuario\", \"Número de seguidores\"])\n",
    "    print(lista)\n",
    "  except Exception as e:\n",
    "    print(f\"No se pudo cargar la lista. Error{e}\")"
   ]
  },
  {
   "cell_type": "markdown",
   "id": "f4637ef4-7052-4a4e-9b9a-e92347a5ec93",
   "metadata": {
    "tags": []
   },
   "source": [
    "<h2><span style=\"color:blue\">5. Probando nuestras Bases de Datos</span></h2>\n",
    "<p>Por último veamos como se comportan las funcionalidades de las diferentes clases el momento de interactuar con la base de dato relacional de nuestra red social, esto para comprobar de primera mano que satisface las condiciones que se nos pidieron al principio.\n",
    "<BR>\n",
    "Empecemos intentando crear las tablas sin la contraseña de administrador:\n"
   ]
  },
  {
   "cell_type": "code",
   "execution_count": 5,
   "id": "e49ce990-c80a-46b9-8deb-528901ac73ee",
   "metadata": {
    "tags": []
   },
   "outputs": [
    {
     "name": "stdout",
     "output_type": "stream",
     "text": [
      "Contraseña incorrecta\n"
     ]
    }
   ],
   "source": [
    "administrador.crear_tabla_usuarios(\"No la contraseña correcta\")"
   ]
  },
  {
   "cell_type": "markdown",
   "id": "03911228-928d-4eaf-aa0c-2b3cd3e50553",
   "metadata": {},
   "source": [
    "<p>Ahora veamos como se pueden eliminar y crear toda la estructura de bases de datos a la vez, siendo un administrador con la contraseña correcta:</p>"
   ]
  },
  {
   "cell_type": "code",
   "execution_count": 6,
   "id": "d7f0cd35-1d24-419d-9561-1375f96c4652",
   "metadata": {
    "tags": []
   },
   "outputs": [
    {
     "name": "stdout",
     "output_type": "stream",
     "text": [
      "Se pudo crear la Tabla de Usuarios correctamente.\n",
      "Se pudo crear la Tabla de Seguidores correctamente.\n",
      "Se pudo crear la Tabla de Publicaciones correctamente.\n",
      "Se pudo crear la Tabla de Likes correctamente.\n"
     ]
    }
   ],
   "source": [
    "administrador.crear_todas_las_tablas(\"contraseñaxd\")"
   ]
  },
  {
   "cell_type": "markdown",
   "id": "e90c7d68-3531-4128-a4c9-61796ce8ea1e",
   "metadata": {},
   "source": [
    "<p>Tambien, creemos un ejemplo de 3 Usuarios que se instancian como objetos de dicha clase. Registrandose en la base de datos de la red social:</p>"
   ]
  },
  {
   "cell_type": "code",
   "execution_count": 7,
   "id": "c37022ad-4835-42e7-8116-0bf1e7dd6633",
   "metadata": {
    "tags": []
   },
   "outputs": [
    {
     "name": "stdout",
     "output_type": "stream",
     "text": [
      "Su cuenta juan ha sido creada correctamente.\n",
      "Su cuenta jose ha sido creada correctamente.\n",
      "Su cuenta pepe ha sido creada correctamente.\n"
     ]
    }
   ],
   "source": [
    "juan = usuario(\"juan\", \"juanes@gmail.com\", \"juan\", \"esteban\", \"3014415299\")\n",
    "jose = usuario(\"jose\", \"josefo@gmail.com\", \"jose\", \"manuel\", \"3113739070\")\n",
    "pepe = usuario(\"pepe\", \"pepe@gmail.com\", \"pepe\", \"gomez\", \"3122520503\")"
   ]
  },
  {
   "cell_type": "markdown",
   "id": "e4dec58e-88ff-4c7a-8073-52228f6f080b",
   "metadata": {
    "tags": []
   },
   "source": [
    "<p>Imaginemos a alguien que no posee una cuenta en la red social y busca a un usuario en específico:</p>"
   ]
  },
  {
   "cell_type": "code",
   "execution_count": 8,
   "id": "8fed9b5c-a047-40fd-bddd-e52a60d9d27d",
   "metadata": {
    "tags": []
   },
   "outputs": [
    {
     "name": "stdout",
     "output_type": "stream",
     "text": [
      "El nombre del usuario al que buscas es: juan esteban.\n"
     ]
    }
   ],
   "source": [
    "publico.buscar_usuario(\"juan\")"
   ]
  },
  {
   "cell_type": "markdown",
   "id": "9a76afa9-cb02-4338-b45e-d1c06b17fba7",
   "metadata": {},
   "source": [
    "<p>Ahora veamos que esa misma persona intenta eliminar la cuenta de ese usuario registrado, este ejemplo tambien serviría para alguien que SI esta registrado y que intenta eliminar la cuenta de otro usuario:</p>"
   ]
  },
  {
   "cell_type": "code",
   "execution_count": 9,
   "id": "9dd6adc6-d615-4430-9c04-e22377885fa2",
   "metadata": {
    "tags": []
   },
   "outputs": [
    {
     "ename": "NameError",
     "evalue": "name 'alguien' is not defined",
     "output_type": "error",
     "traceback": [
      "\u001b[1;31m---------------------------------------------------------------------------\u001b[0m",
      "\u001b[1;31mNameError\u001b[0m                                 Traceback (most recent call last)",
      "Cell \u001b[1;32mIn[9], line 1\u001b[0m\n\u001b[1;32m----> 1\u001b[0m alguien\u001b[38;5;241m.\u001b[39meliminar_usuario(\u001b[38;5;124m\"\u001b[39m\u001b[38;5;124mjuan\u001b[39m\u001b[38;5;124m\"\u001b[39m)\n",
      "\u001b[1;31mNameError\u001b[0m: name 'alguien' is not defined"
     ]
    }
   ],
   "source": [
    "alguien.eliminar_usuario(\"juan\")"
   ]
  },
  {
   "cell_type": "markdown",
   "id": "97001af3-1199-4586-b0b6-e85d4ae4a734",
   "metadata": {},
   "source": [
    "<p>Veamos en cambio, como los usuarios registrados empiezan a seguirse o dejar de seguirse entre ellos:</p>"
   ]
  },
  {
   "cell_type": "code",
   "execution_count": 10,
   "id": "00c1dd2c-79d1-4d5f-807e-ebe0b9b60842",
   "metadata": {
    "tags": []
   },
   "outputs": [
    {
     "name": "stdout",
     "output_type": "stream",
     "text": [
      "juan ahora sigue a jose\n",
      "juan dejo de seguir a jose\n",
      "jose ahora sigue a juan\n",
      "jose ahora sigue a pepe\n",
      "pepe ahora sigue a juan\n",
      "pepe ahora sigue a jose\n"
     ]
    }
   ],
   "source": [
    "juan.seguir_usuario(\"jose\")\n",
    "juan.dejar_de_seguir_usuario(\"jose\")\n",
    "\n",
    "jose.seguir_usuario(\"juan\")\n",
    "jose.seguir_usuario(\"pepe\")\n",
    "\n",
    "pepe.seguir_usuario(\"juan\")\n",
    "pepe.seguir_usuario(\"jose\")"
   ]
  },
  {
   "cell_type": "markdown",
   "id": "b5c958af-1f06-45be-b697-51d3bad72a0a",
   "metadata": {},
   "source": [
    "<p>Una vez ya establecidas las relaciones entre seguidores y seguidos, veamos (desde la perspectiva de alguien de afuera) como se realiza una consulta de la lista de los más seguidos:</p>"
   ]
  },
  {
   "cell_type": "code",
   "execution_count": 11,
   "id": "1421c21b-f885-4135-b15a-80039dea59ec",
   "metadata": {
    "tags": []
   },
   "outputs": [
    {
     "name": "stdout",
     "output_type": "stream",
     "text": [
      "  Usuario  Número de seguidores\n",
      "0    juan                     2\n",
      "1    pepe                     1\n",
      "2    jose                     1\n"
     ]
    }
   ],
   "source": [
    "publico.top_seguidos()"
   ]
  },
  {
   "cell_type": "markdown",
   "id": "f0d17ecf-20a5-4b87-930d-9077e76b78ad",
   "metadata": {},
   "source": [
    "<p>Siguiendo con el ejemplo anterior veamos como Juan realiza la primera publicacion de texto dentro de la red y como Jose le da like al mismo:</p>"
   ]
  },
  {
   "cell_type": "code",
   "execution_count": 12,
   "id": "74bdef8a-9e33-4a27-aa59-f303ca66bed5",
   "metadata": {},
   "outputs": [
    {
     "name": "stdout",
     "output_type": "stream",
     "text": [
      "Su comentario a sido publicado con éxito.\n",
      "A jose le a gustado Hola gente, este es mi primer comentario siganme en esta red social plz\n"
     ]
    }
   ],
   "source": [
    "juan.publicar_comentario(\"Hola gente, este es mi primer comentario siganme en esta red social plz\")\n",
    "jose.dar_like(\"juan\", \"Hola gente, este es mi primer comentario siganme en esta red social plz\")"
   ]
  },
  {
   "cell_type": "markdown",
   "id": "b6b40624-abe6-4416-a2bd-09584097f875",
   "metadata": {},
   "source": [
    "<p>Veamos como una persona de fuera de la red busca el código de registro que tiene el comentario de Juan:</p>"
   ]
  },
  {
   "cell_type": "code",
   "execution_count": 13,
   "id": "c6cb2a65-a2d1-46dd-8d92-abfe99ec3edd",
   "metadata": {
    "tags": []
   },
   "outputs": [
    {
     "name": "stdout",
     "output_type": "stream",
     "text": [
      "El número de registro de la publicación del usuario juan es 1.\n"
     ]
    }
   ],
   "source": [
    "publico.buscar_registro_publicacion(\"juan\", \"Hola gente, este es mi primer comentario siganme en esta red social plz\")"
   ]
  },
  {
   "cell_type": "markdown",
   "id": "6eddc327-a4f2-4af5-8ec8-b5c73a41d365",
   "metadata": {},
   "source": [
    "<p>Ahora veamos como alguien al que le interesa las públicaciones de Juan, pero no esta registrado en la red, puede consultar dichas publicaciones y los \"likes\" respectivos de cada una:</p>"
   ]
  },
  {
   "cell_type": "code",
   "execution_count": 14,
   "id": "df2d0e8d-c33b-4967-af8c-859079cf2494",
   "metadata": {
    "tags": []
   },
   "outputs": [
    {
     "name": "stdout",
     "output_type": "stream",
     "text": [
      "                                          Comentario  Número de Likes\n",
      "0  Hola gente, este es mi primer comentario sigan...                1\n"
     ]
    }
   ],
   "source": [
    "publico.lista_publicaciones(\"juan\")"
   ]
  },
  {
   "cell_type": "markdown",
   "id": "7add32b9-1db1-4d7a-ad2d-00cd69e47783",
   "metadata": {},
   "source": [
    "<p>Veamos el caso en el que Juan se arrepiente de la publicación que realizo y decide eliminarla:</p>"
   ]
  },
  {
   "cell_type": "code",
   "execution_count": 15,
   "id": "4a1b2f31-b91d-47ac-bcb3-310b654ffce4",
   "metadata": {
    "tags": []
   },
   "outputs": [
    {
     "name": "stdout",
     "output_type": "stream",
     "text": [
      "Su publicación a sido eliminado con éxito.\n"
     ]
    }
   ],
   "source": [
    "juan.eliminar_publicacion(\"Hola gente, este es mi primer comentario siganme en esta red social plz\")"
   ]
  },
  {
   "cell_type": "markdown",
   "id": "f675aa43-e2d8-459b-b75c-e0955378c9c8",
   "metadata": {},
   "source": [
    "<p>Podriamos eliminar toda la estructura de datos que hicimos. Sin embargo, por razones didácticas prefiero no hacerlo.</p>"
   ]
  }
 ],
 "metadata": {
  "kernelspec": {
   "display_name": "Python 3 (ipykernel)",
   "language": "python",
   "name": "python3"
  },
  "language_info": {
   "codemirror_mode": {
    "name": "ipython",
    "version": 3
   },
   "file_extension": ".py",
   "mimetype": "text/x-python",
   "name": "python",
   "nbconvert_exporter": "python",
   "pygments_lexer": "ipython3",
   "version": "3.11.7"
  }
 },
 "nbformat": 4,
 "nbformat_minor": 5
}
